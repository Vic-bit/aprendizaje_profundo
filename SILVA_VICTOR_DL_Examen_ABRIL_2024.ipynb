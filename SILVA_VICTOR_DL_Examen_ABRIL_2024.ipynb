{
  "nbformat": 4,
  "nbformat_minor": 0,
  "metadata": {
    "colab": {
      "provenance": [],
      "collapsed_sections": [
        "cDegfHRXvV_o",
        "Q4IwkMN6s1Jx",
        "4Kq-E7A8wIBR",
        "-aHwTf_1wIBb",
        "XHydK_br8418",
        "yVdgKVAY842F",
        "DmBhDkHS842G",
        "pCA3Y01NBSE2",
        "NIl8m4_SgOG5"
      ],
      "gpuType": "T4",
      "include_colab_link": true
    },
    "kernelspec": {
      "name": "python3",
      "display_name": "Python 3"
    },
    "language_info": {
      "name": "python"
    },
    "accelerator": "GPU"
  },
  "cells": [
    {
      "cell_type": "markdown",
      "metadata": {
        "id": "view-in-github",
        "colab_type": "text"
      },
      "source": [
        "<a href=\"https://colab.research.google.com/github/Vic-bit/aprendizaje_profundo/blob/master/SILVA_VICTOR_DL_Examen_ABRIL_2024.ipynb\" target=\"_parent\"><img src=\"https://colab.research.google.com/assets/colab-badge.svg\" alt=\"Open In Colab\"/></a>"
      ]
    },
    {
      "cell_type": "markdown",
      "source": [
        "\n",
        "# Universidad de Buenos Aires\n",
        "# Deep Learning - Examen - Parte 2\n",
        "# Junio 2024\n"
      ],
      "metadata": {
        "id": "bm6z-kS8vmfn"
      }
    },
    {
      "cell_type": "markdown",
      "source": [
        "El TP comienza al momento de recibir este correo y la ventana de entrega estará abierta hasta el **Lunes 24 de junio**. La resolución es individual. Pueden utilizar los contenidos vistos en clase y otra bibliografía. Si se toman ideas de fuentes externas deben ser correctamente citas incluyendo el correspondiente link o página de libro.\n",
        "\n",
        "El formato de entrega debe ser un “link a un colab” (compartir a las siguientes direcciones: maxit1992@gmail.com y lelectronfou@gmail.com). Tanto los resultados, como el código y las explicaciones deben quedar guardados y visualizables en el colab.\n",
        "\n",
        "**Consideraciones a tener en cuenta:**\n",
        "- Se entregará 1 solo colab para la totalidad del examen.\n",
        "- Renombrar el archivo de la siguiente manera: **APELLIDO-NOMBRE-DL-Examen ABRIL 2024.ipynb**\n",
        "- Los códigos deben poder ejecutarse.\n",
        "- Los resultados, cómo el código y las explicaciones deben quedar guardados y visualizables en el correspondiente link.\n",
        "- Prestar atención a las consignas, responder las preguntas cuando corresponda."
      ],
      "metadata": {
        "id": "4Z9ecZHdv0lH"
      }
    },
    {
      "cell_type": "markdown",
      "source": [
        "## Parte 2.a\n",
        "\n",
        "Implemente una arquitectura de red neuronal basada en CNN para identificar del dataset fashion MNIST las 10 clases del mismo. Sobre dicho modelo, realize una exploración de 5 variantes distintas (que se desprenden del modelo propuesto) variando alguno (o varios) de los siguientes hiperparámetros\n",
        "- numero de capas.\n",
        "- numero de kernels.\n",
        "- tamaño de kernels.\n",
        "\n",
        "\n",
        "a) Evalue la evolución de la función de perdida y la accuracy (para train y test) para cada modelo y elija el que considera mejor.\n",
        "\n",
        "b) Al mejor modelo, aplique capas de dropout para ver si puede mejorar sus métricas.\n",
        "\n"
      ],
      "metadata": {
        "id": "-6LncA6WwfhQ"
      }
    },
    {
      "cell_type": "code",
      "execution_count": 2,
      "metadata": {
        "id": "srwTqvY7fKk2"
      },
      "outputs": [],
      "source": [
        "import torch\n",
        "from torch import nn\n",
        "from torch.utils.data import DataLoader\n",
        "from torchvision import datasets\n",
        "from torchvision.transforms import ToTensor\n",
        "from torchsummary import summary\n",
        "import numpy as np\n",
        "import random\n",
        "import matplotlib.pyplot as plt"
      ]
    },
    {
      "cell_type": "code",
      "source": [
        "device = \"cuda\" if torch.cuda.is_available() else \"cpu\""
      ],
      "metadata": {
        "id": "MOm5KAGKdde9"
      },
      "execution_count": 28,
      "outputs": []
    },
    {
      "cell_type": "code",
      "source": [
        "# Download train data from open datasets.\n",
        "train_data= datasets.FashionMNIST(root='data', train=True, download=True, transform=ToTensor(),)\n",
        "\n",
        "# Download test data from open datsets.\n",
        "test_data=datasets.FashionMNIST(root='data', train=False, download=True, transform=ToTensor(),)\n"
      ],
      "metadata": {
        "colab": {
          "base_uri": "https://localhost:8080/"
        },
        "id": "xNGscXTPfVNZ",
        "outputId": "02451263-6994-4d4f-bf71-edb649643ef7"
      },
      "execution_count": 3,
      "outputs": [
        {
          "output_type": "stream",
          "name": "stdout",
          "text": [
            "Downloading http://fashion-mnist.s3-website.eu-central-1.amazonaws.com/train-images-idx3-ubyte.gz\n",
            "Downloading http://fashion-mnist.s3-website.eu-central-1.amazonaws.com/train-images-idx3-ubyte.gz to data/FashionMNIST/raw/train-images-idx3-ubyte.gz\n"
          ]
        },
        {
          "output_type": "stream",
          "name": "stderr",
          "text": [
            "100%|██████████| 26421880/26421880 [00:02<00:00, 9280306.87it/s] \n"
          ]
        },
        {
          "output_type": "stream",
          "name": "stdout",
          "text": [
            "Extracting data/FashionMNIST/raw/train-images-idx3-ubyte.gz to data/FashionMNIST/raw\n",
            "\n",
            "Downloading http://fashion-mnist.s3-website.eu-central-1.amazonaws.com/train-labels-idx1-ubyte.gz\n",
            "Downloading http://fashion-mnist.s3-website.eu-central-1.amazonaws.com/train-labels-idx1-ubyte.gz to data/FashionMNIST/raw/train-labels-idx1-ubyte.gz\n"
          ]
        },
        {
          "output_type": "stream",
          "name": "stderr",
          "text": [
            "100%|██████████| 29515/29515 [00:00<00:00, 272307.08it/s]\n"
          ]
        },
        {
          "output_type": "stream",
          "name": "stdout",
          "text": [
            "Extracting data/FashionMNIST/raw/train-labels-idx1-ubyte.gz to data/FashionMNIST/raw\n",
            "\n",
            "Downloading http://fashion-mnist.s3-website.eu-central-1.amazonaws.com/t10k-images-idx3-ubyte.gz\n",
            "Downloading http://fashion-mnist.s3-website.eu-central-1.amazonaws.com/t10k-images-idx3-ubyte.gz to data/FashionMNIST/raw/t10k-images-idx3-ubyte.gz\n"
          ]
        },
        {
          "output_type": "stream",
          "name": "stderr",
          "text": [
            "100%|██████████| 4422102/4422102 [00:00<00:00, 5062063.92it/s]\n"
          ]
        },
        {
          "output_type": "stream",
          "name": "stdout",
          "text": [
            "Extracting data/FashionMNIST/raw/t10k-images-idx3-ubyte.gz to data/FashionMNIST/raw\n",
            "\n",
            "Downloading http://fashion-mnist.s3-website.eu-central-1.amazonaws.com/t10k-labels-idx1-ubyte.gz\n",
            "Downloading http://fashion-mnist.s3-website.eu-central-1.amazonaws.com/t10k-labels-idx1-ubyte.gz to data/FashionMNIST/raw/t10k-labels-idx1-ubyte.gz\n"
          ]
        },
        {
          "output_type": "stream",
          "name": "stderr",
          "text": [
            "100%|██████████| 5148/5148 [00:00<00:00, 13805803.70it/s]"
          ]
        },
        {
          "output_type": "stream",
          "name": "stdout",
          "text": [
            "Extracting data/FashionMNIST/raw/t10k-labels-idx1-ubyte.gz to data/FashionMNIST/raw\n",
            "\n"
          ]
        },
        {
          "output_type": "stream",
          "name": "stderr",
          "text": [
            "\n"
          ]
        }
      ]
    },
    {
      "cell_type": "code",
      "source": [
        "# Se forma el dataloader para crear batches de datasets\n",
        "dataloader = {\n",
        "    'train': torch.utils.data.DataLoader(train_data, batch_size=64, shuffle=True, pin_memory=True),\n",
        "    'test': torch.utils.data.DataLoader(test_data, batch_size=64, shuffle=False, pin_memory=True)\n",
        "}"
      ],
      "metadata": {
        "id": "PWhInawBhdIE"
      },
      "execution_count": 4,
      "outputs": []
    },
    {
      "cell_type": "markdown",
      "source": [
        "### Exploración del dataset"
      ],
      "metadata": {
        "id": "eVemk6jQaa0l"
      }
    },
    {
      "cell_type": "code",
      "source": [
        "labels_map={\n",
        "    0: 'T-shirt',\n",
        "    1: 'Trouser',\n",
        "    2: 'Pullover',\n",
        "    3: 'Dress',\n",
        "    4: 'Coat',\n",
        "    5: 'Sandal',\n",
        "    6: 'Shirt',\n",
        "    7: 'Sneaker',\n",
        "    8: 'Bag',\n",
        "    9: 'Ankle Boot',\n",
        "}\n",
        "\n",
        "figure = plt.figure(figsize = (10,10))\n",
        "cols, rows = 3, 3\n",
        "\n",
        "for i in range (1, cols*rows + 1):\n",
        "    sample_idx = torch.randint(len(train_data), size = (1,)).item()\n",
        "    image, label = train_data[sample_idx]\n",
        "    figure.add_subplot(rows, cols, i)\n",
        "    plt.title(labels_map[label])\n",
        "    plt.axis('off')\n",
        "    plt.imshow(image.squeeze(), cmap='gray')\n",
        "plt.show()"
      ],
      "metadata": {
        "colab": {
          "base_uri": "https://localhost:8080/",
          "height": 829
        },
        "id": "9mZXNPCQfbEU",
        "outputId": "dc1ffabb-6a72-4fcc-aab9-ac7805c7f45d"
      },
      "execution_count": 5,
      "outputs": [
        {
          "output_type": "display_data",
          "data": {
            "text/plain": [
              "<Figure size 1000x1000 with 9 Axes>"
            ],
            "image/png": "[encoded data removed]"
          },
          "metadata": {}
        }
      ]
    },
    {
      "cell_type": "code",
      "source": [
        "print(type(dataloader))\n",
        "print(type(dataloader['train']))"
      ],
      "metadata": {
        "colab": {
          "base_uri": "https://localhost:8080/"
        },
        "id": "aDBNaRUoagRC",
        "outputId": "05860a4e-e801-488d-a11c-5c0190b8d735"
      },
      "execution_count": 6,
      "outputs": [
        {
          "output_type": "stream",
          "name": "stdout",
          "text": [
            "<class 'dict'>\n",
            "<class 'torch.utils.data.dataloader.DataLoader'>\n"
          ]
        }
      ]
    },
    {
      "cell_type": "code",
      "source": [
        "# Ver imagen and label del dataloader\n",
        "train_features, train_labels = next(iter(dataloader['train']))"
      ],
      "metadata": {
        "id": "oHzM-vBlbBmX"
      },
      "execution_count": 7,
      "outputs": []
    },
    {
      "cell_type": "code",
      "source": [
        "# verifico sus dimensiones\n",
        "print(f\"Tamaño del batch de feature (input / imagen): {train_features.size()}\")\n",
        "print(f\"Tamaño del batch del label (clase / etiqueta): {train_labels.size()}\")\n",
        "\n",
        "# tomo 1 imagen para poder visualizarla\n",
        "# y verifico sus dimensiones\n",
        "\n",
        "img = train_features[22]\n",
        "print('tamaño de 1 imagen: ', img.shape)\n",
        "# le QUITO 1 dimension (la del tamaño del batch) para poder graficar\n",
        "img = img.squeeze()\n",
        "print('tamaño de 1 imagen DESPUES de squeeze: ', img.shape)\n",
        "label = train_labels[22]\n",
        "\n",
        "# ploteo esa imagen\n",
        "plt.imshow(img, cmap=\"gray\")\n",
        "plt.show()\n",
        "print(f\"Label: {label}\")"
      ],
      "metadata": {
        "colab": {
          "base_uri": "https://localhost:8080/",
          "height": 517
        },
        "id": "T-rqttz4bLVC",
        "outputId": "1984943c-9025-4ed1-b709-dddab960f9ef"
      },
      "execution_count": 8,
      "outputs": [
        {
          "output_type": "stream",
          "name": "stdout",
          "text": [
            "Tamaño del batch de feature (input / imagen): torch.Size([64, 1, 28, 28])\n",
            "Tamaño del batch del label (clase / etiqueta): torch.Size([64])\n",
            "tamaño de 1 imagen:  torch.Size([1, 28, 28])\n",
            "tamaño de 1 imagen DESPUES de squeeze:  torch.Size([28, 28])\n"
          ]
        },
        {
          "output_type": "display_data",
          "data": {
            "text/plain": [
              "<Figure size 640x480 with 1 Axes>"
            ],
            "image/png": "[encoded data removed]"
          },
          "metadata": {}
        },
        {
          "output_type": "stream",
          "name": "stdout",
          "text": [
            "Label: 9\n"
          ]
        }
      ]
    },
    {
      "cell_type": "code",
      "source": [
        "print('pixel [0,0]: ',img[0][0])\n",
        "print('pixel maximo: ', torch.max(img))\n",
        "print('pixel minimo: ', torch.min(img))"
      ],
      "metadata": {
        "colab": {
          "base_uri": "https://localhost:8080/"
        },
        "id": "VANJHWqcbfvi",
        "outputId": "2bd78860-a5a1-45ff-aa77-4d130f502055"
      },
      "execution_count": 9,
      "outputs": [
        {
          "output_type": "stream",
          "name": "stdout",
          "text": [
            "pixel [0,0]:  tensor(0.)\n",
            "pixel maximo:  tensor(1.)\n",
            "pixel minimo:  tensor(0.)\n"
          ]
        }
      ]
    },
    {
      "cell_type": "markdown",
      "source": [
        "### Función para entrenar el modelo"
      ],
      "metadata": {
        "id": "QlfWhelMqQjk"
      }
    },
    {
      "cell_type": "code",
      "source": [
        "# Se arman las funciones necesarias para realizar el entrenamiento\n",
        "from tqdm import tqdm # <- para graficar la barra de avance\n",
        "\n",
        "\n",
        "def fit(model, dataloader, epochs=15):\n",
        "    model.to(device)\n",
        "    optimizer = torch.optim.Adam(model.parameters(), lr=1e-4)\n",
        "    criterion = torch.nn.CrossEntropyLoss()\n",
        "    epoch_t_loss = []\n",
        "    epoch_v_loss = []\n",
        "    epoch_t_acc = []\n",
        "    epoch_v_acc = []\n",
        "    for epoch in range(1, epochs+1):\n",
        "        model.train()\n",
        "        train_loss, train_acc = [], []\n",
        "        bar = tqdm(dataloader['train'])\n",
        "        for batch in bar:\n",
        "            X, y = batch\n",
        "            X, y = X.to(device), y.to(device)\n",
        "            optimizer.zero_grad()\n",
        "            y_hat = model(X)\n",
        "            loss = criterion(y_hat, y)\n",
        "            loss.backward()\n",
        "            optimizer.step()\n",
        "            train_loss.append(loss.item())\n",
        "            ####\n",
        "            acc = (y == torch.argmax(y_hat, axis=1)).sum().item() / len(y)\n",
        "            train_acc.append(acc)\n",
        "            bar.set_description(f\"loss {np.mean(train_loss):.5f} acc {np.mean(train_acc):.5f}\")\n",
        "\n",
        "        epoch_t_loss.append(np.mean(train_loss))\n",
        "        epoch_t_acc.append(np.mean(train_acc))\n",
        "\n",
        "        bar = tqdm(dataloader['test'])\n",
        "        val_loss, val_acc = [], []\n",
        "        model.eval()\n",
        "        with torch.no_grad():\n",
        "            for batch in bar:\n",
        "                X, y = batch\n",
        "                X, y = X.to(device), y.to(device)\n",
        "                y_hat = model(X)\n",
        "                loss = criterion(y_hat, y)\n",
        "                val_loss.append(loss.item())\n",
        "                acc = (y == torch.argmax(y_hat, axis=1)).sum().item() / len(y)\n",
        "                val_acc.append(acc)\n",
        "                bar.set_description(f\"val_loss {np.mean(val_loss):.5f} val_acc {np.mean(val_acc):.5f}\")\n",
        "        print(f\"Epoch {epoch}/{epochs} loss {np.mean(train_loss):.5f} val_loss {np.mean(val_loss):.5f} acc {np.mean(train_acc):.5f} val_acc {np.mean(val_acc):.5f}\")\n",
        "\n",
        "        epoch_v_loss.append(np.mean(val_loss))\n",
        "        epoch_v_acc.append(np.mean(val_acc))\n",
        "\n",
        "    plt.figure()\n",
        "    plt.plot(epoch_t_loss, 'r')\n",
        "    plt.plot(epoch_v_loss, 'g')\n",
        "    plt.title('loss')\n",
        "    plt.legend(['train loss', 'val loss'])\n",
        "    plt.grid()\n",
        "\n",
        "    plt.figure()\n",
        "    plt.plot(epoch_t_acc, 'r')\n",
        "    plt.plot(epoch_v_acc, 'g')\n",
        "    plt.title('acc')\n",
        "    plt.legend(['train acc', 'val acc'])\n",
        "    plt.grid()\n",
        "    plt.show()\n",
        "\n",
        "    train_loss = epoch_t_loss[-1]\n",
        "    val_loss = epoch_v_loss[-1]\n",
        "    train_acc = epoch_t_acc[-1]\n",
        "    val_acc = epoch_v_acc[-1]\n",
        "\n",
        "    print('train loss: ', train_loss)\n",
        "    print('val loss: ', val_loss)\n",
        "    print('train acc: ', train_acc)\n",
        "    print('val acc: ', val_acc)\n",
        "\n",
        "    return train_loss, val_loss, train_acc, val_acc\n",
        "    # Se muestran los valores obtenidos de loss y acc para train y loss\n"
      ],
      "metadata": {
        "id": "G8NpQuEBfJ8p"
      },
      "execution_count": 10,
      "outputs": []
    },
    {
      "cell_type": "markdown",
      "source": [
        "### Construcción de las CNN\n",
        "\n"
      ],
      "metadata": {
        "id": "DTSKHk9Pbl2-"
      }
    },
    {
      "cell_type": "markdown",
      "source": [
        "#### Modelo 1"
      ],
      "metadata": {
        "id": "cDegfHRXvV_o"
      }
    },
    {
      "cell_type": "markdown",
      "source": [
        "##### Bloque de convolución"
      ],
      "metadata": {
        "id": "sb0AFtGsqyEt"
      }
    },
    {
      "cell_type": "code",
      "source": [
        "# Bloque de convolución para emplear en la red\n",
        "def conv_block_1(c_in, c_out, k=5, p=2, s=1, pk=3, ps=2, pp=1):\n",
        "    return torch.nn.Sequential(\n",
        "        torch.nn.Conv2d(c_in, c_out, k, padding=p, stride=s), # conv\n",
        "        torch.nn.Tanh(),                                      # activation\n",
        "        torch.nn.MaxPool2d(pk, stride=ps, padding=pp)         # pooling\n",
        "    )"
      ],
      "metadata": {
        "id": "ZasfhL5nbqDt"
      },
      "execution_count": 83,
      "outputs": []
    },
    {
      "cell_type": "markdown",
      "source": [
        "##### CNN"
      ],
      "metadata": {
        "id": "-eTTlONAvggR"
      }
    },
    {
      "cell_type": "code",
      "source": [
        "class CNN_1(torch.nn.Module):\n",
        "  def __init__(self, n_channels=1, n_outputs=10):\n",
        "    super().__init__()\n",
        "    self.conv1 = conv_block_1(n_channels, 8)\n",
        "    self.conv1_out = None\n",
        "    self.conv2 = conv_block_1(8, 16)\n",
        "    self.conv2_out = None\n",
        "    self.conv3 = conv_block_1(16, 32)\n",
        "    self.conv3_out = None\n",
        "    # self.conv4 = conv_block(128, 128)\n",
        "    # self.conv4_out = None\n",
        "    self.fc = torch.nn.Linear(512, n_outputs) # verificar la dim de la salida para calcular el tamaño de la fully conected!!\n",
        "    #self.sm = torch.nn.Softmax(dim=1)\n",
        "\n",
        "    print('Red creada')\n",
        "    print('arquitectura:')\n",
        "    print(self)\n",
        "\n",
        "    # Se imprime el número de capas\n",
        "    i=0\n",
        "    for layer in self.children():\n",
        "        i=i+1\n",
        "    print('Número total de capas de CNN (conv+act+polling) + finales : ', i)\n",
        "\n",
        "    # Se imprime el número de parámetros entrenables\n",
        "    pytorch_total_params = sum(p.numel() for p in self.parameters() if p.requires_grad)\n",
        "    print('Número total de parámetros a entrenar: ', pytorch_total_params)\n",
        "\n",
        "  def validar_dim(self):\n",
        "    # es una funcion \"forward\" que imprime la dimension de cada paso\n",
        "    # la defino distinto de la forward standard para que cuando entrenemos\n",
        "    # no nos llene la pantalla de información inecesaria.\n",
        "\n",
        "    print(\"Validacion de dimensiones\")\n",
        "    tam = input(\"Ingrese tamaño de entrada: \")\n",
        "    x = torch.randn(1, 1, int(tam), int(tam))\n",
        "    print(\"Tamaño entrada: \", x.shape)\n",
        "\n",
        "    x = self.conv1(x)\n",
        "    print(\"Tamaño salida conv1: \", x.shape)\n",
        "    x = self.conv2(x)\n",
        "    print(\"Tamaño salida conv2: \", x.shape)\n",
        "    x = self.conv3(x)\n",
        "    print(\"Tamaño salida conv3: \", x.shape)\n",
        "\n",
        "    # x = self.conv4(x)\n",
        "    # print(\"Tamaño salida conv4: \", x.shape)\n",
        "\n",
        "    x = x.view(x.shape[0], -1)\n",
        "    print(\"Tamaño imagen vectorizada: \", x.shape)\n",
        "    x = self.fc(x)\n",
        "    print(\"Tamaño salida fc (nro clases): \", x.shape)\n",
        "\n",
        "  def forward(self, x):\n",
        "    self.conv1_out = self.conv1(x)\n",
        "    self.conv2_out = self.conv2(self.conv1_out)\n",
        "    self.conv3_out = self.conv3(self.conv2_out)\n",
        "    # self.conv4_out = self.conv4(self.conv3_out)\n",
        "    y = self.conv3_out.view(self.conv3_out.shape[0], -1)\n",
        "    y = self.fc(y)\n",
        "    # x = self.sm(x)\n",
        "    return y"
      ],
      "metadata": {
        "id": "Sqg6OkgPcLBp"
      },
      "execution_count": 84,
      "outputs": []
    },
    {
      "cell_type": "code",
      "source": [
        "model1 = CNN_1()"
      ],
      "metadata": {
        "colab": {
          "base_uri": "https://localhost:8080/"
        },
        "id": "1CYYOa24cygM",
        "outputId": "f32c5db9-5912-4ae3-be90-999900089cdc"
      },
      "execution_count": 85,
      "outputs": [
        {
          "output_type": "stream",
          "name": "stdout",
          "text": [
            "Red creada\n",
            "arquitectura:\n",
            "CNN(\n",
            "  (conv1): Sequential(\n",
            "    (0): Conv2d(1, 8, kernel_size=(5, 5), stride=(1, 1), padding=(2, 2))\n",
            "    (1): Tanh()\n",
            "    (2): MaxPool2d(kernel_size=3, stride=2, padding=1, dilation=1, ceil_mode=False)\n",
            "  )\n",
            "  (conv2): Sequential(\n",
            "    (0): Conv2d(8, 16, kernel_size=(5, 5), stride=(1, 1), padding=(2, 2))\n",
            "    (1): Tanh()\n",
            "    (2): MaxPool2d(kernel_size=3, stride=2, padding=1, dilation=1, ceil_mode=False)\n",
            "  )\n",
            "  (conv3): Sequential(\n",
            "    (0): Conv2d(16, 32, kernel_size=(5, 5), stride=(1, 1), padding=(2, 2))\n",
            "    (1): Tanh()\n",
            "    (2): MaxPool2d(kernel_size=3, stride=2, padding=1, dilation=1, ceil_mode=False)\n",
            "  )\n",
            "  (fc): Linear(in_features=512, out_features=10, bias=True)\n",
            ")\n",
            "Número total de capas de CNN (conv+act+polling) + finales :  4\n",
            "Número total de parámetros a entrenar:  21386\n"
          ]
        }
      ]
    },
    {
      "cell_type": "code",
      "source": [
        "summary(model1.cuda(),(1, 28, 28) )"
      ],
      "metadata": {
        "colab": {
          "base_uri": "https://localhost:8080/"
        },
        "id": "vkJtH0M3dYuy",
        "outputId": "a6f1be22-71eb-42a7-afb8-9891b311e778"
      },
      "execution_count": 86,
      "outputs": [
        {
          "output_type": "stream",
          "name": "stdout",
          "text": [
            "----------------------------------------------------------------\n",
            "        Layer (type)               Output Shape         Param #\n",
            "================================================================\n",
            "            Conv2d-1            [-1, 8, 28, 28]             208\n",
            "              Tanh-2            [-1, 8, 28, 28]               0\n",
            "         MaxPool2d-3            [-1, 8, 14, 14]               0\n",
            "            Conv2d-4           [-1, 16, 14, 14]           3,216\n",
            "              Tanh-5           [-1, 16, 14, 14]               0\n",
            "         MaxPool2d-6             [-1, 16, 7, 7]               0\n",
            "            Conv2d-7             [-1, 32, 7, 7]          12,832\n",
            "              Tanh-8             [-1, 32, 7, 7]               0\n",
            "         MaxPool2d-9             [-1, 32, 4, 4]               0\n",
            "           Linear-10                   [-1, 10]           5,130\n",
            "================================================================\n",
            "Total params: 21,386\n",
            "Trainable params: 21,386\n",
            "Non-trainable params: 0\n",
            "----------------------------------------------------------------\n",
            "Input size (MB): 0.00\n",
            "Forward/backward pass size (MB): 0.19\n",
            "Params size (MB): 0.08\n",
            "Estimated Total Size (MB): 0.27\n",
            "----------------------------------------------------------------\n"
          ]
        }
      ]
    },
    {
      "cell_type": "code",
      "source": [
        "# Verificamos la consistencia de las dimensiones\n",
        "model1.cpu()\n",
        "model1.validar_dim()"
      ],
      "metadata": {
        "colab": {
          "base_uri": "https://localhost:8080/"
        },
        "id": "VfOg0hg3evHt",
        "outputId": "8b7f84d8-627f-44f7-ce1b-7d5a43f2b1d3"
      },
      "execution_count": 87,
      "outputs": [
        {
          "output_type": "stream",
          "name": "stdout",
          "text": [
            "Validacion de dimensiones\n",
            "Ingrese tamaño de entrada: 28\n",
            "Tamaño entrada:  torch.Size([1, 1, 28, 28])\n",
            "Tamaño salida conv1:  torch.Size([1, 8, 14, 14])\n",
            "Tamaño salida conv2:  torch.Size([1, 16, 7, 7])\n",
            "Tamaño salida conv3:  torch.Size([1, 32, 4, 4])\n",
            "Tamaño imagen vectorizada:  torch.Size([1, 512])\n",
            "Tamaño salida fc (nro clases):  torch.Size([1, 10])\n"
          ]
        }
      ]
    },
    {
      "cell_type": "markdown",
      "source": [
        "##### Se entrena el modelo 1"
      ],
      "metadata": {
        "id": "of-C7-fubpRs"
      }
    },
    {
      "cell_type": "code",
      "source": [
        "train_loss_1, val_loss_1, train_acc_1, val_acc_1 = fit(model1, dataloader, epochs=5)"
      ],
      "metadata": {
        "colab": {
          "base_uri": "https://localhost:8080/",
          "height": 1000
        },
        "id": "foDmM2kOfiov",
        "outputId": "4dd98872-5d6e-40ce-b82c-95768b827d29"
      },
      "execution_count": 88,
      "outputs": [
        {
          "output_type": "stream",
          "name": "stderr",
          "text": [
            "loss 1.10739 acc 0.61324: 100%|██████████| 938/938 [00:13<00:00, 70.11it/s]\n",
            "val_loss 0.78858 val_acc 0.71467: 100%|██████████| 157/157 [00:01<00:00, 87.63it/s]\n"
          ]
        },
        {
          "output_type": "stream",
          "name": "stdout",
          "text": [
            "Epoch 1/5 loss 1.10739 val_loss 0.78858 acc 0.61324 val_acc 0.71467\n"
          ]
        },
        {
          "output_type": "stream",
          "name": "stderr",
          "text": [
            "loss 0.66584 acc 0.75801: 100%|██████████| 938/938 [00:13<00:00, 70.04it/s]\n",
            "val_loss 0.61532 val_acc 0.77199: 100%|██████████| 157/157 [00:02<00:00, 67.66it/s]\n"
          ]
        },
        {
          "output_type": "stream",
          "name": "stdout",
          "text": [
            "Epoch 2/5 loss 0.66584 val_loss 0.61532 acc 0.75801 val_acc 0.77199\n"
          ]
        },
        {
          "output_type": "stream",
          "name": "stderr",
          "text": [
            "loss 0.55136 acc 0.79902: 100%|██████████| 938/938 [00:13<00:00, 71.09it/s]\n",
            "val_loss 0.54054 val_acc 0.79966: 100%|██████████| 157/157 [00:01<00:00, 83.59it/s]\n"
          ]
        },
        {
          "output_type": "stream",
          "name": "stdout",
          "text": [
            "Epoch 3/5 loss 0.55136 val_loss 0.54054 acc 0.79902 val_acc 0.79966\n"
          ]
        },
        {
          "output_type": "stream",
          "name": "stderr",
          "text": [
            "loss 0.49775 acc 0.81891: 100%|██████████| 938/938 [00:13<00:00, 69.69it/s]\n",
            "val_loss 0.49835 val_acc 0.81549: 100%|██████████| 157/157 [00:01<00:00, 85.53it/s]\n"
          ]
        },
        {
          "output_type": "stream",
          "name": "stdout",
          "text": [
            "Epoch 4/5 loss 0.49775 val_loss 0.49835 acc 0.81891 val_acc 0.81549\n"
          ]
        },
        {
          "output_type": "stream",
          "name": "stderr",
          "text": [
            "loss 0.45998 acc 0.83287: 100%|██████████| 938/938 [00:13<00:00, 70.20it/s]\n",
            "val_loss 0.46913 val_acc 0.82763: 100%|██████████| 157/157 [00:01<00:00, 84.26it/s]\n"
          ]
        },
        {
          "output_type": "stream",
          "name": "stdout",
          "text": [
            "Epoch 5/5 loss 0.45998 val_loss 0.46913 acc 0.83287 val_acc 0.82763\n"
          ]
        },
        {
          "output_type": "display_data",
          "data": {
            "text/plain": [
              "<Figure size 640x480 with 1 Axes>"
            ],
            "image/png": "[encoded data removed]"
          },
          "metadata": {}
        },
        {
          "output_type": "display_data",
          "data": {
            "text/plain": [
              "<Figure size 640x480 with 1 Axes>"
            ],
            "image/png": "[encoded data removed]"
          },
          "metadata": {}
        },
        {
          "output_type": "stream",
          "name": "stdout",
          "text": [
            "train loss:  0.45998069191220475\n",
            "val loss:  0.46913195491596393\n",
            "train acc:  0.8328724680170576\n",
            "val acc:  0.8276273885350318\n"
          ]
        }
      ]
    },
    {
      "cell_type": "markdown",
      "source": [
        "#### Modelo 2:\n",
        "\n",
        "- se incrementa el kernel de 5 a 9\n",
        "- se incrementa el padding de 3 a 5\n",
        "- se aumenta el stride de 1 a 2."
      ],
      "metadata": {
        "id": "Q4IwkMN6s1Jx"
      }
    },
    {
      "cell_type": "markdown",
      "source": [
        "##### Bloque de convolución"
      ],
      "metadata": {
        "id": "RNetwzLYvuAm"
      }
    },
    {
      "cell_type": "code",
      "source": [
        "# Bloque de convolución para emplear en la red\n",
        "def conv_block_2(c_in, c_out, k=9, p=5, s=2, pk=3, ps=2, pp=1):\n",
        "    return torch.nn.Sequential(\n",
        "        torch.nn.Conv2d(c_in, c_out, k, padding=p, stride=s), # conv\n",
        "        torch.nn.Tanh(),                                      # activation\n",
        "        torch.nn.MaxPool2d(pk, stride=ps, padding=pp)         # pooling\n",
        "    )"
      ],
      "metadata": {
        "id": "i8uw_P6ls1Jy"
      },
      "execution_count": 89,
      "outputs": []
    },
    {
      "cell_type": "markdown",
      "source": [
        "##### CNN"
      ],
      "metadata": {
        "id": "3LPOjZWyvzFo"
      }
    },
    {
      "cell_type": "code",
      "source": [
        "class CNN_2(torch.nn.Module):\n",
        "  def __init__(self, n_channels=1, n_outputs=10):\n",
        "    super().__init__()\n",
        "    self.conv1 = conv_block_2(n_channels, 8)\n",
        "    self.conv1_out = None\n",
        "    self.conv2 = conv_block_2(8, 16)\n",
        "    self.conv2_out = None\n",
        "    self.conv3 = conv_block_2(16, 32)\n",
        "    self.conv3_out = None\n",
        "    # self.conv4 = conv_block(128, 128)\n",
        "    # self.conv4_out = None\n",
        "    self.fc = torch.nn.Linear(128, n_outputs) # verificar la dim de la salida para calcular el tamaño de la fully conected!!\n",
        "    #self.sm = torch.nn.Softmax(dim=1)\n",
        "\n",
        "    print('Red creada')\n",
        "    print('arquitectura:')\n",
        "    print(self)\n",
        "\n",
        "    # Se imprime el número de capas\n",
        "    i=0\n",
        "    for layer in self.children():\n",
        "        i=i+1\n",
        "    print('Número total de capas de CNN (conv+act+polling) + finales : ', i)\n",
        "\n",
        "    # Se imprime el número de parámetros entrenables\n",
        "    pytorch_total_params = sum(p.numel() for p in self.parameters() if p.requires_grad)\n",
        "    print('Número total de parámetros a entrenar: ', pytorch_total_params)\n",
        "\n",
        "  def validar_dim(self):\n",
        "    # es una funcion \"forward\" que imprime la dimension de cada paso\n",
        "    # la defino distinto de la forward standard para que cuando entrenemos\n",
        "    # no nos llene la pantalla de información inecesaria.\n",
        "\n",
        "    print(\"Validacion de dimensiones\")\n",
        "    tam = input(\"Ingrese tamaño de entrada: \")\n",
        "    x = torch.randn(1, 1, int(tam), int(tam))\n",
        "    print(\"Tamaño entrada: \", x.shape)\n",
        "\n",
        "    x = self.conv1(x)\n",
        "    print(\"Tamaño salida conv1: \", x.shape)\n",
        "    x = self.conv2(x)\n",
        "    print(\"Tamaño salida conv2: \", x.shape)\n",
        "    x = self.conv3(x)\n",
        "    print(\"Tamaño salida conv3: \", x.shape)\n",
        "\n",
        "    # x = self.conv4(x)\n",
        "    # print(\"Tamaño salida conv4: \", x.shape)\n",
        "\n",
        "    x = x.view(x.shape[0], -1)\n",
        "    print(\"Tamaño imagen vectorizada: \", x.shape)\n",
        "    x = self.fc(x)\n",
        "    print(\"Tamaño salida fc (nro clases): \", x.shape)\n",
        "\n",
        "  def forward(self, x):\n",
        "    self.conv1_out = self.conv1(x)\n",
        "    self.conv2_out = self.conv2(self.conv1_out)\n",
        "    self.conv3_out = self.conv3(self.conv2_out)\n",
        "    # self.conv4_out = self.conv4(self.conv3_out)\n",
        "    y = self.conv3_out.view(self.conv3_out.shape[0], -1)\n",
        "    y = self.fc(y)\n",
        "    # x = self.sm(x)\n",
        "    return y"
      ],
      "metadata": {
        "id": "w-JTFEZis1Jy"
      },
      "execution_count": 91,
      "outputs": []
    },
    {
      "cell_type": "code",
      "source": [
        "model2 = CNN_2()"
      ],
      "metadata": {
        "colab": {
          "base_uri": "https://localhost:8080/"
        },
        "outputId": "e07d47b4-b914-43a0-a1a1-f652190c0ebd",
        "id": "bP9DI4cSs1Jy"
      },
      "execution_count": 92,
      "outputs": [
        {
          "output_type": "stream",
          "name": "stdout",
          "text": [
            "Red creada\n",
            "arquitectura:\n",
            "CNN2(\n",
            "  (conv1): Sequential(\n",
            "    (0): Conv2d(1, 8, kernel_size=(9, 9), stride=(2, 2), padding=(5, 5))\n",
            "    (1): Tanh()\n",
            "    (2): MaxPool2d(kernel_size=3, stride=2, padding=1, dilation=1, ceil_mode=False)\n",
            "  )\n",
            "  (conv2): Sequential(\n",
            "    (0): Conv2d(8, 16, kernel_size=(9, 9), stride=(2, 2), padding=(5, 5))\n",
            "    (1): Tanh()\n",
            "    (2): MaxPool2d(kernel_size=3, stride=2, padding=1, dilation=1, ceil_mode=False)\n",
            "  )\n",
            "  (conv3): Sequential(\n",
            "    (0): Conv2d(16, 32, kernel_size=(9, 9), stride=(2, 2), padding=(5, 5))\n",
            "    (1): Tanh()\n",
            "    (2): MaxPool2d(kernel_size=3, stride=2, padding=1, dilation=1, ceil_mode=False)\n",
            "  )\n",
            "  (fc): Linear(in_features=128, out_features=10, bias=True)\n",
            ")\n",
            "Número total de capas de CNN (conv+act+polling) + finales :  4\n",
            "Número total de parámetros a entrenar:  53834\n"
          ]
        }
      ]
    },
    {
      "cell_type": "code",
      "source": [
        "summary(model2.cuda(),(1, 28, 28) )"
      ],
      "metadata": {
        "colab": {
          "base_uri": "https://localhost:8080/"
        },
        "outputId": "50444046-7015-4847-dee8-83d6c4267a9a",
        "id": "ufLZXcG6s1Jy"
      },
      "execution_count": 93,
      "outputs": [
        {
          "output_type": "stream",
          "name": "stdout",
          "text": [
            "----------------------------------------------------------------\n",
            "        Layer (type)               Output Shape         Param #\n",
            "================================================================\n",
            "            Conv2d-1            [-1, 8, 15, 15]             656\n",
            "              Tanh-2            [-1, 8, 15, 15]               0\n",
            "         MaxPool2d-3              [-1, 8, 8, 8]               0\n",
            "            Conv2d-4             [-1, 16, 5, 5]          10,384\n",
            "              Tanh-5             [-1, 16, 5, 5]               0\n",
            "         MaxPool2d-6             [-1, 16, 3, 3]               0\n",
            "            Conv2d-7             [-1, 32, 3, 3]          41,504\n",
            "              Tanh-8             [-1, 32, 3, 3]               0\n",
            "         MaxPool2d-9             [-1, 32, 2, 2]               0\n",
            "           Linear-10                   [-1, 10]           1,290\n",
            "================================================================\n",
            "Total params: 53,834\n",
            "Trainable params: 53,834\n",
            "Non-trainable params: 0\n",
            "----------------------------------------------------------------\n",
            "Input size (MB): 0.00\n",
            "Forward/backward pass size (MB): 0.04\n",
            "Params size (MB): 0.21\n",
            "Estimated Total Size (MB): 0.25\n",
            "----------------------------------------------------------------\n"
          ]
        }
      ]
    },
    {
      "cell_type": "code",
      "source": [
        "# Verificamos la consistencia de las dimensiones\n",
        "model2.cpu()\n",
        "model2.validar_dim()"
      ],
      "metadata": {
        "colab": {
          "base_uri": "https://localhost:8080/"
        },
        "outputId": "b3e0f7ec-e88c-433e-b608-1191b4ba683e",
        "id": "KEO01aTTs1Jy"
      },
      "execution_count": 94,
      "outputs": [
        {
          "output_type": "stream",
          "name": "stdout",
          "text": [
            "Validacion de dimensiones\n",
            "Ingrese tamaño de entrada: 28\n",
            "Tamaño entrada:  torch.Size([1, 1, 28, 28])\n",
            "Tamaño salida conv1:  torch.Size([1, 8, 8, 8])\n",
            "Tamaño salida conv2:  torch.Size([1, 16, 3, 3])\n",
            "Tamaño salida conv3:  torch.Size([1, 32, 2, 2])\n",
            "Tamaño imagen vectorizada:  torch.Size([1, 128])\n",
            "Tamaño salida fc (nro clases):  torch.Size([1, 10])\n"
          ]
        }
      ]
    },
    {
      "cell_type": "markdown",
      "source": [
        "##### Se entrena el modelo 2"
      ],
      "metadata": {
        "id": "0DXbH9OStmXG"
      }
    },
    {
      "cell_type": "code",
      "source": [
        "train_loss_2, val_loss_2, train_acc_2, val_acc_2 = fit(model2, dataloader, epochs=5)"
      ],
      "metadata": {
        "colab": {
          "base_uri": "https://localhost:8080/",
          "height": 1000
        },
        "outputId": "bb33f988-c1b4-4d8b-dc75-ab23780cbdb4",
        "id": "ClT2ycjztmXG"
      },
      "execution_count": 95,
      "outputs": [
        {
          "output_type": "stream",
          "name": "stderr",
          "text": [
            "loss 1.19693 acc 0.59648: 100%|██████████| 938/938 [00:13<00:00, 70.13it/s]\n",
            "val_loss 0.76393 val_acc 0.72482: 100%|██████████| 157/157 [00:01<00:00, 85.34it/s]\n"
          ]
        },
        {
          "output_type": "stream",
          "name": "stdout",
          "text": [
            "Epoch 1/5 loss 1.19693 val_loss 0.76393 acc 0.59648 val_acc 0.72482\n"
          ]
        },
        {
          "output_type": "stream",
          "name": "stderr",
          "text": [
            "loss 0.64988 acc 0.75708: 100%|██████████| 938/938 [00:13<00:00, 69.58it/s]\n",
            "val_loss 0.60324 val_acc 0.77279: 100%|██████████| 157/157 [00:01<00:00, 87.13it/s]\n"
          ]
        },
        {
          "output_type": "stream",
          "name": "stdout",
          "text": [
            "Epoch 2/5 loss 0.64988 val_loss 0.60324 acc 0.75708 val_acc 0.77279\n"
          ]
        },
        {
          "output_type": "stream",
          "name": "stderr",
          "text": [
            "loss 0.55038 acc 0.79319: 100%|██████████| 938/938 [00:13<00:00, 69.23it/s]\n",
            "val_loss 0.53743 val_acc 0.79887: 100%|██████████| 157/157 [00:02<00:00, 66.83it/s]\n"
          ]
        },
        {
          "output_type": "stream",
          "name": "stdout",
          "text": [
            "Epoch 3/5 loss 0.55038 val_loss 0.53743 acc 0.79319 val_acc 0.79887\n"
          ]
        },
        {
          "output_type": "stream",
          "name": "stderr",
          "text": [
            "loss 0.49872 acc 0.81480: 100%|██████████| 938/938 [00:13<00:00, 69.52it/s]\n",
            "val_loss 0.49806 val_acc 0.81628: 100%|██████████| 157/157 [00:01<00:00, 87.19it/s]\n"
          ]
        },
        {
          "output_type": "stream",
          "name": "stdout",
          "text": [
            "Epoch 4/5 loss 0.49872 val_loss 0.49806 acc 0.81480 val_acc 0.81628\n"
          ]
        },
        {
          "output_type": "stream",
          "name": "stderr",
          "text": [
            "loss 0.46325 acc 0.82741: 100%|██████████| 938/938 [00:13<00:00, 69.71it/s]\n",
            "val_loss 0.46932 val_acc 0.82613: 100%|██████████| 157/157 [00:01<00:00, 85.25it/s]\n"
          ]
        },
        {
          "output_type": "stream",
          "name": "stdout",
          "text": [
            "Epoch 5/5 loss 0.46325 val_loss 0.46932 acc 0.82741 val_acc 0.82613\n"
          ]
        },
        {
          "output_type": "display_data",
          "data": {
            "text/plain": [
              "<Figure size 640x480 with 1 Axes>"
            ],
            "image/png": "[encoded data removed]"
          },
          "metadata": {}
        },
        {
          "output_type": "display_data",
          "data": {
            "text/plain": [
              "<Figure size 640x480 with 1 Axes>"
            ],
            "image/png": "[encoded data removed]"
          },
          "metadata": {}
        },
        {
          "output_type": "stream",
          "name": "stdout",
          "text": [
            "train loss:  0.4632471662753426\n",
            "val loss:  0.4693218093768806\n",
            "train acc:  0.8274087153518124\n",
            "val acc:  0.8261345541401274\n"
          ]
        }
      ]
    },
    {
      "cell_type": "markdown",
      "source": [
        "#### Modelo 3:\n",
        "- Se incrementa el kernel de pooling de 3 a 5.\n",
        "- Se incrementa el padding  de pooling de 2 a 3.\n",
        "- Se incrementa el stride de pooling  de 1 a 2."
      ],
      "metadata": {
        "id": "4Kq-E7A8wIBR"
      }
    },
    {
      "cell_type": "markdown",
      "source": [
        "##### Bloque de convolución"
      ],
      "metadata": {
        "id": "-aHwTf_1wIBb"
      }
    },
    {
      "cell_type": "code",
      "source": [
        "# Bloque de convolución para emplear en la red\n",
        "def conv_block_3(c_in, c_out, k=5, p=2, s=1, pk=5, ps=3, pp=2):\n",
        "    return torch.nn.Sequential(\n",
        "        torch.nn.Conv2d(c_in, c_out, k, padding=p, stride=s), # conv\n",
        "        torch.nn.Tanh(),                                      # activation\n",
        "        torch.nn.MaxPool2d(pk, stride=ps, padding=pp)         # pooling\n",
        "    )"
      ],
      "metadata": {
        "id": "6xN6cPjOwIBb"
      },
      "execution_count": 96,
      "outputs": []
    },
    {
      "cell_type": "markdown",
      "source": [
        "##### CNN"
      ],
      "metadata": {
        "id": "RCA2ob5LwIBb"
      }
    },
    {
      "cell_type": "code",
      "source": [
        "class CNN3(torch.nn.Module):\n",
        "  def __init__(self, n_channels=1, n_outputs=10):\n",
        "    super().__init__()\n",
        "    self.conv1 = conv_block_3(n_channels, 8)\n",
        "    self.conv1_out = None\n",
        "    self.conv2 = conv_block_3(8, 16)\n",
        "    self.conv2_out = None\n",
        "    self.conv3 = conv_block_3(16, 32)\n",
        "    self.conv3_out = None\n",
        "    # self.conv4 = conv_block(128, 128)\n",
        "    # self.conv4_out = None\n",
        "    self.fc = torch.nn.Linear(32, n_outputs) # verificar la dim de la salida para calcular el tamaño de la fully conected!!\n",
        "    #self.sm = torch.nn.Softmax(dim=1)\n",
        "\n",
        "    print('Red creada')\n",
        "    print('arquitectura:')\n",
        "    print(self)\n",
        "\n",
        "    # Se imprime el número de capas\n",
        "    i=0\n",
        "    for layer in self.children():\n",
        "        i=i+1\n",
        "    print('Número total de capas de CNN (conv+act+polling) + finales : ', i)\n",
        "\n",
        "    # Se imprime el número de parámetros entrenables\n",
        "    pytorch_total_params = sum(p.numel() for p in self.parameters() if p.requires_grad)\n",
        "    print('Número total de parámetros a entrenar: ', pytorch_total_params)\n",
        "\n",
        "  def validar_dim(self):\n",
        "    # es una funcion \"forward\" que imprime la dimension de cada paso\n",
        "    # la defino distinto de la forward standard para que cuando entrenemos\n",
        "    # no nos llene la pantalla de información inecesaria.\n",
        "\n",
        "    print(\"Validacion de dimensiones\")\n",
        "    tam = input(\"Ingrese tamaño de entrada: \")\n",
        "    x = torch.randn(1, 1, int(tam), int(tam))\n",
        "    print(\"Tamaño entrada: \", x.shape)\n",
        "\n",
        "    x = self.conv1(x)\n",
        "    print(\"Tamaño salida conv1: \", x.shape)\n",
        "    x = self.conv2(x)\n",
        "    print(\"Tamaño salida conv2: \", x.shape)\n",
        "    x = self.conv3(x)\n",
        "    print(\"Tamaño salida conv3: \", x.shape)\n",
        "\n",
        "    # x = self.conv4(x)\n",
        "    # print(\"Tamaño salida conv4: \", x.shape)\n",
        "\n",
        "    x = x.view(x.shape[0], -1)\n",
        "    print(\"Tamaño imagen vectorizada: \", x.shape)\n",
        "    x = self.fc(x)\n",
        "    print(\"Tamaño salida fc (nro clases): \", x.shape)\n",
        "\n",
        "  def forward(self, x):\n",
        "    self.conv1_out = self.conv1(x)\n",
        "    self.conv2_out = self.conv2(self.conv1_out)\n",
        "    self.conv3_out = self.conv3(self.conv2_out)\n",
        "    # self.conv4_out = self.conv4(self.conv3_out)\n",
        "    y = self.conv3_out.view(self.conv3_out.shape[0], -1)\n",
        "    y = self.fc(y)\n",
        "    # x = self.sm(x)\n",
        "    return y"
      ],
      "metadata": {
        "id": "12RNyrcZwIBb"
      },
      "execution_count": 97,
      "outputs": []
    },
    {
      "cell_type": "code",
      "source": [
        "model3 = CNN()"
      ],
      "metadata": {
        "colab": {
          "base_uri": "https://localhost:8080/"
        },
        "outputId": "0f820c6a-50dd-4188-b394-995758139cc4",
        "id": "6UQlR04AwIBb"
      },
      "execution_count": 98,
      "outputs": [
        {
          "output_type": "stream",
          "name": "stdout",
          "text": [
            "Red creada\n",
            "arquitectura:\n",
            "CNN(\n",
            "  (conv1): Sequential(\n",
            "    (0): Conv2d(1, 8, kernel_size=(9, 9), stride=(2, 2), padding=(5, 5))\n",
            "    (1): Tanh()\n",
            "    (2): MaxPool2d(kernel_size=3, stride=2, padding=1, dilation=1, ceil_mode=False)\n",
            "  )\n",
            "  (conv2): Sequential(\n",
            "    (0): Conv2d(8, 16, kernel_size=(9, 9), stride=(2, 2), padding=(5, 5))\n",
            "    (1): Tanh()\n",
            "    (2): MaxPool2d(kernel_size=3, stride=2, padding=1, dilation=1, ceil_mode=False)\n",
            "  )\n",
            "  (conv3): Sequential(\n",
            "    (0): Conv2d(16, 32, kernel_size=(9, 9), stride=(2, 2), padding=(5, 5))\n",
            "    (1): Tanh()\n",
            "    (2): MaxPool2d(kernel_size=3, stride=2, padding=1, dilation=1, ceil_mode=False)\n",
            "  )\n",
            "  (fc): Linear(in_features=128, out_features=10, bias=True)\n",
            ")\n",
            "Número total de capas de CNN (conv+act+polling) + finales :  4\n",
            "Número total de parámetros a entrenar:  53834\n"
          ]
        }
      ]
    },
    {
      "cell_type": "code",
      "source": [
        "summary(model3.cuda(),(1, 28, 28) )"
      ],
      "metadata": {
        "colab": {
          "base_uri": "https://localhost:8080/"
        },
        "outputId": "cbfc436b-45c4-4a60-f7e9-6010e27ac62f",
        "id": "iV4SHznvwIBb"
      },
      "execution_count": 99,
      "outputs": [
        {
          "output_type": "stream",
          "name": "stdout",
          "text": [
            "----------------------------------------------------------------\n",
            "        Layer (type)               Output Shape         Param #\n",
            "================================================================\n",
            "            Conv2d-1            [-1, 8, 15, 15]             656\n",
            "              Tanh-2            [-1, 8, 15, 15]               0\n",
            "         MaxPool2d-3              [-1, 8, 8, 8]               0\n",
            "            Conv2d-4             [-1, 16, 5, 5]          10,384\n",
            "              Tanh-5             [-1, 16, 5, 5]               0\n",
            "         MaxPool2d-6             [-1, 16, 3, 3]               0\n",
            "            Conv2d-7             [-1, 32, 3, 3]          41,504\n",
            "              Tanh-8             [-1, 32, 3, 3]               0\n",
            "         MaxPool2d-9             [-1, 32, 2, 2]               0\n",
            "           Linear-10                   [-1, 10]           1,290\n",
            "================================================================\n",
            "Total params: 53,834\n",
            "Trainable params: 53,834\n",
            "Non-trainable params: 0\n",
            "----------------------------------------------------------------\n",
            "Input size (MB): 0.00\n",
            "Forward/backward pass size (MB): 0.04\n",
            "Params size (MB): 0.21\n",
            "Estimated Total Size (MB): 0.25\n",
            "----------------------------------------------------------------\n"
          ]
        }
      ]
    },
    {
      "cell_type": "code",
      "source": [
        "# Verificamos la consistencia de las dimensiones\n",
        "model3.cpu()\n",
        "model3.validar_dim()"
      ],
      "metadata": {
        "colab": {
          "base_uri": "https://localhost:8080/"
        },
        "outputId": "f54c02ce-95e8-440b-ae8b-4cfd51fa70a4",
        "id": "oSNROTMCwIBc"
      },
      "execution_count": 100,
      "outputs": [
        {
          "output_type": "stream",
          "name": "stdout",
          "text": [
            "Validacion de dimensiones\n",
            "Ingrese tamaño de entrada: 28\n",
            "Tamaño entrada:  torch.Size([1, 1, 28, 28])\n",
            "Tamaño salida conv1:  torch.Size([1, 8, 8, 8])\n",
            "Tamaño salida conv2:  torch.Size([1, 16, 3, 3])\n",
            "Tamaño salida conv3:  torch.Size([1, 32, 2, 2])\n",
            "Tamaño imagen vectorizada:  torch.Size([1, 128])\n",
            "Tamaño salida fc (nro clases):  torch.Size([1, 10])\n"
          ]
        }
      ]
    },
    {
      "cell_type": "markdown",
      "source": [
        "##### Se entrena el modelo 3"
      ],
      "metadata": {
        "id": "hx2O4J4OwIBc"
      }
    },
    {
      "cell_type": "code",
      "source": [
        "train_loss_3, val_loss_3, train_acc_3, val_acc_3 = fit(model3, dataloader, epochs=5)"
      ],
      "metadata": {
        "colab": {
          "base_uri": "https://localhost:8080/",
          "height": 1000
        },
        "outputId": "206f7f69-32b9-4364-ca57-c731fcfb9028",
        "id": "slurnvZ5wIBc"
      },
      "execution_count": 102,
      "outputs": [
        {
          "output_type": "stream",
          "name": "stderr",
          "text": [
            "loss 0.92815 acc 0.66903: 100%|██████████| 938/938 [00:13<00:00, 69.73it/s]\n",
            "val_loss 0.73952 val_acc 0.72791: 100%|██████████| 157/157 [00:01<00:00, 84.22it/s]\n"
          ]
        },
        {
          "output_type": "stream",
          "name": "stdout",
          "text": [
            "Epoch 1/5 loss 0.92815 val_loss 0.73952 acc 0.66903 val_acc 0.72791\n"
          ]
        },
        {
          "output_type": "stream",
          "name": "stderr",
          "text": [
            "loss 0.64190 acc 0.76293: 100%|██████████| 938/938 [00:13<00:00, 68.37it/s]\n",
            "val_loss 0.60242 val_acc 0.77707: 100%|██████████| 157/157 [00:01<00:00, 82.41it/s]\n"
          ]
        },
        {
          "output_type": "stream",
          "name": "stdout",
          "text": [
            "Epoch 2/5 loss 0.64190 val_loss 0.60242 acc 0.76293 val_acc 0.77707\n"
          ]
        },
        {
          "output_type": "stream",
          "name": "stderr",
          "text": [
            "loss 0.54847 acc 0.79741: 100%|██████████| 938/938 [00:13<00:00, 67.83it/s]\n",
            "val_loss 0.53765 val_acc 0.80096: 100%|██████████| 157/157 [00:02<00:00, 73.03it/s]\n"
          ]
        },
        {
          "output_type": "stream",
          "name": "stdout",
          "text": [
            "Epoch 3/5 loss 0.54847 val_loss 0.53765 acc 0.79741 val_acc 0.80096\n"
          ]
        },
        {
          "output_type": "stream",
          "name": "stderr",
          "text": [
            "loss 0.49573 acc 0.81778: 100%|██████████| 938/938 [00:14<00:00, 66.81it/s]\n",
            "val_loss 0.49649 val_acc 0.81817: 100%|██████████| 157/157 [00:01<00:00, 84.03it/s]\n"
          ]
        },
        {
          "output_type": "stream",
          "name": "stdout",
          "text": [
            "Epoch 4/5 loss 0.49573 val_loss 0.49649 acc 0.81778 val_acc 0.81817\n"
          ]
        },
        {
          "output_type": "stream",
          "name": "stderr",
          "text": [
            "loss 0.45949 acc 0.83086: 100%|██████████| 938/938 [00:13<00:00, 67.24it/s]\n",
            "val_loss 0.46550 val_acc 0.82842: 100%|██████████| 157/157 [00:01<00:00, 86.07it/s]\n"
          ]
        },
        {
          "output_type": "stream",
          "name": "stdout",
          "text": [
            "Epoch 5/5 loss 0.45949 val_loss 0.46550 acc 0.83086 val_acc 0.82842\n"
          ]
        },
        {
          "output_type": "display_data",
          "data": {
            "text/plain": [
              "<Figure size 640x480 with 1 Axes>"
            ],
            "image/png": "[encoded data removed]"
          },
          "metadata": {}
        },
        {
          "output_type": "display_data",
          "data": {
            "text/plain": [
              "<Figure size 640x480 with 1 Axes>"
            ],
            "image/png": "[encoded data removed]"
          },
          "metadata": {}
        },
        {
          "output_type": "stream",
          "name": "stdout",
          "text": [
            "train loss:  0.4594931240274962\n",
            "val loss:  0.4654952277233646\n",
            "train acc:  0.8308568763326226\n",
            "val acc:  0.8284235668789809\n"
          ]
        }
      ]
    },
    {
      "cell_type": "markdown",
      "source": [
        "#### Modelo 4"
      ],
      "metadata": {
        "id": "XHydK_br8418"
      }
    },
    {
      "cell_type": "markdown",
      "source": [
        "##### Bloque de convolución"
      ],
      "metadata": {
        "id": "yVdgKVAY842F"
      }
    },
    {
      "cell_type": "code",
      "source": [
        "# Bloque de convolución para emplear en la red\n",
        "def conv_block_4(c_in, c_out, k=5, p=2, s=1, pk=3, ps=2, pp=1):\n",
        "    return torch.nn.Sequential(\n",
        "        torch.nn.Conv2d(c_in, c_out, k, padding=p, stride=s), # conv\n",
        "        torch.nn.Tanh(),                                      # activation\n",
        "        torch.nn.MaxPool2d(pk, stride=ps, padding=pp)         # pooling\n",
        "    )"
      ],
      "metadata": {
        "id": "ajr0R7wG842G"
      },
      "execution_count": 103,
      "outputs": []
    },
    {
      "cell_type": "markdown",
      "source": [
        "##### CNN"
      ],
      "metadata": {
        "id": "uOL8lEHZ842G"
      }
    },
    {
      "cell_type": "code",
      "source": [
        "class CNN_4(torch.nn.Module):\n",
        "  def __init__(self, n_channels=1, n_outputs=10):\n",
        "    super().__init__()\n",
        "    self.conv1 = conv_block_4(n_channels, 16)\n",
        "    self.conv1_out = None\n",
        "    self.conv2 = conv_block_4(16,32)\n",
        "    self.conv2_out = None\n",
        "    self.conv3 = conv_block_4(32, 64)\n",
        "    self.conv3_out = None\n",
        "    self.conv4 = conv_block_4(64, 128)\n",
        "    self.conv4_out = None\n",
        "    self.fc = torch.nn.Linear(512, n_outputs) # verificar la dim de la salida para calcular el tamaño de la fully conected!!\n",
        "    #self.sm = torch.nn.Softmax(dim=1)\n",
        "\n",
        "    print('Red creada')\n",
        "    print('arquitectura:')\n",
        "    print(self)\n",
        "\n",
        "    # Se imprime el número de capas\n",
        "    i=0\n",
        "    for layer in self.children():\n",
        "        i=i+1\n",
        "    print('Número total de capas de CNN (conv+act+polling) + finales : ', i)\n",
        "\n",
        "    # Se imprime el número de parámetros entrenables\n",
        "    pytorch_total_params = sum(p.numel() for p in self.parameters() if p.requires_grad)\n",
        "    print('Número total de parámetros a entrenar: ', pytorch_total_params)\n",
        "\n",
        "  def validar_dim(self):\n",
        "    # es una funcion \"forward\" que imprime la dimension de cada paso\n",
        "    # la defino distinto de la forward standard para que cuando entrenemos\n",
        "    # no nos llene la pantalla de información inecesaria.\n",
        "\n",
        "    print(\"Validacion de dimensiones\")\n",
        "    tam = input(\"Ingrese tamaño de entrada: \")\n",
        "    x = torch.randn(1, 1, int(tam), int(tam))\n",
        "    print(\"Tamaño entrada: \", x.shape)\n",
        "\n",
        "    x = self.conv1(x)\n",
        "    print(\"Tamaño salida conv1: \", x.shape)\n",
        "    x = self.conv2(x)\n",
        "    print(\"Tamaño salida conv2: \", x.shape)\n",
        "    x = self.conv3(x)\n",
        "    print(\"Tamaño salida conv3: \", x.shape)\n",
        "    x = self.conv4(x)\n",
        "    print(\"Tamaño salida conv4: \", x.shape)\n",
        "\n",
        "    x = x.view(x.shape[0], -1)\n",
        "    print(\"Tamaño imagen vectorizada: \", x.shape)\n",
        "    x = self.fc(x)\n",
        "    print(\"Tamaño salida fc (nro clases): \", x.shape)\n",
        "\n",
        "  def forward(self, x):\n",
        "    self.conv1_out = self.conv1(x)\n",
        "    self.conv2_out = self.conv2(self.conv1_out)\n",
        "    self.conv3_out = self.conv3(self.conv2_out)\n",
        "    self.conv4_out = self.conv4(self.conv3_out)\n",
        "    y = self.conv4_out.view(self.conv4_out.shape[0], -1)\n",
        "    y = self.fc(y)\n",
        "    # x = self.sm(x)\n",
        "    return y"
      ],
      "metadata": {
        "id": "UixOaKGy842G"
      },
      "execution_count": 104,
      "outputs": []
    },
    {
      "cell_type": "code",
      "source": [
        "model4 = CNN_4()"
      ],
      "metadata": {
        "colab": {
          "base_uri": "https://localhost:8080/"
        },
        "outputId": "c18168b2-a150-4ceb-b8b9-ba1b9183df5e",
        "id": "5xm1v6Ik842G"
      },
      "execution_count": 105,
      "outputs": [
        {
          "output_type": "stream",
          "name": "stdout",
          "text": [
            "Red creada\n",
            "arquitectura:\n",
            "CNN_4(\n",
            "  (conv1): Sequential(\n",
            "    (0): Conv2d(1, 16, kernel_size=(5, 5), stride=(1, 1), padding=(2, 2))\n",
            "    (1): Tanh()\n",
            "    (2): MaxPool2d(kernel_size=3, stride=2, padding=1, dilation=1, ceil_mode=False)\n",
            "  )\n",
            "  (conv2): Sequential(\n",
            "    (0): Conv2d(16, 32, kernel_size=(5, 5), stride=(1, 1), padding=(2, 2))\n",
            "    (1): Tanh()\n",
            "    (2): MaxPool2d(kernel_size=3, stride=2, padding=1, dilation=1, ceil_mode=False)\n",
            "  )\n",
            "  (conv3): Sequential(\n",
            "    (0): Conv2d(32, 64, kernel_size=(5, 5), stride=(1, 1), padding=(2, 2))\n",
            "    (1): Tanh()\n",
            "    (2): MaxPool2d(kernel_size=3, stride=2, padding=1, dilation=1, ceil_mode=False)\n",
            "  )\n",
            "  (conv4): Sequential(\n",
            "    (0): Conv2d(64, 128, kernel_size=(5, 5), stride=(1, 1), padding=(2, 2))\n",
            "    (1): Tanh()\n",
            "    (2): MaxPool2d(kernel_size=3, stride=2, padding=1, dilation=1, ceil_mode=False)\n",
            "  )\n",
            "  (fc): Linear(in_features=512, out_features=10, bias=True)\n",
            ")\n",
            "Número total de capas de CNN (conv+act+polling) + finales :  5\n",
            "Número total de parámetros a entrenar:  274570\n"
          ]
        }
      ]
    },
    {
      "cell_type": "code",
      "source": [
        "summary(model4.cuda(),(1, 28, 28) )"
      ],
      "metadata": {
        "colab": {
          "base_uri": "https://localhost:8080/"
        },
        "outputId": "7ea1969d-99aa-455c-8684-09e84f9be1cf",
        "id": "akCserH0842G"
      },
      "execution_count": 106,
      "outputs": [
        {
          "output_type": "stream",
          "name": "stdout",
          "text": [
            "----------------------------------------------------------------\n",
            "        Layer (type)               Output Shape         Param #\n",
            "================================================================\n",
            "            Conv2d-1           [-1, 16, 28, 28]             416\n",
            "              Tanh-2           [-1, 16, 28, 28]               0\n",
            "         MaxPool2d-3           [-1, 16, 14, 14]               0\n",
            "            Conv2d-4           [-1, 32, 14, 14]          12,832\n",
            "              Tanh-5           [-1, 32, 14, 14]               0\n",
            "         MaxPool2d-6             [-1, 32, 7, 7]               0\n",
            "            Conv2d-7             [-1, 64, 7, 7]          51,264\n",
            "              Tanh-8             [-1, 64, 7, 7]               0\n",
            "         MaxPool2d-9             [-1, 64, 4, 4]               0\n",
            "           Conv2d-10            [-1, 128, 4, 4]         204,928\n",
            "             Tanh-11            [-1, 128, 4, 4]               0\n",
            "        MaxPool2d-12            [-1, 128, 2, 2]               0\n",
            "           Linear-13                   [-1, 10]           5,130\n",
            "================================================================\n",
            "Total params: 274,570\n",
            "Trainable params: 274,570\n",
            "Non-trainable params: 0\n",
            "----------------------------------------------------------------\n",
            "Input size (MB): 0.00\n",
            "Forward/backward pass size (MB): 0.41\n",
            "Params size (MB): 1.05\n",
            "Estimated Total Size (MB): 1.46\n",
            "----------------------------------------------------------------\n"
          ]
        }
      ]
    },
    {
      "cell_type": "code",
      "source": [
        "# Verificamos la consistencia de las dimensiones\n",
        "model4.cpu()\n",
        "model4.validar_dim()"
      ],
      "metadata": {
        "colab": {
          "base_uri": "https://localhost:8080/"
        },
        "outputId": "a700402e-1b8d-41eb-da43-7432b750f5af",
        "id": "FoQxrOi1842G"
      },
      "execution_count": 129,
      "outputs": [
        {
          "output_type": "stream",
          "name": "stdout",
          "text": [
            "Validacion de dimensiones\n",
            "Ingrese tamaño de entrada: 28\n",
            "Tamaño entrada:  torch.Size([1, 1, 28, 28])\n",
            "Tamaño salida conv1:  torch.Size([1, 16, 14, 14])\n",
            "Tamaño salida conv2:  torch.Size([1, 32, 7, 7])\n",
            "Tamaño salida conv3:  torch.Size([1, 64, 4, 4])\n",
            "Tamaño salida conv4:  torch.Size([1, 128, 2, 2])\n",
            "Tamaño imagen vectorizada:  torch.Size([1, 512])\n",
            "Tamaño salida fc (nro clases):  torch.Size([1, 10])\n"
          ]
        }
      ]
    },
    {
      "cell_type": "markdown",
      "source": [
        "##### Se entrena el modelo 4"
      ],
      "metadata": {
        "id": "DmBhDkHS842G"
      }
    },
    {
      "cell_type": "code",
      "source": [
        "train_loss_4, val_loss_4, train_acc_4, val_acc_4 = fit(model4, dataloader, epochs=5)"
      ],
      "metadata": {
        "colab": {
          "base_uri": "https://localhost:8080/",
          "height": 1000
        },
        "outputId": "72734992-1df4-4e02-ac5b-8ca25c90a8d6",
        "id": "Q5eHX6Im842G"
      },
      "execution_count": 108,
      "outputs": [
        {
          "output_type": "stream",
          "name": "stderr",
          "text": [
            "loss 0.78370 acc 0.72350: 100%|██████████| 938/938 [00:15<00:00, 59.01it/s]\n",
            "val_loss 0.55085 val_acc 0.79270: 100%|██████████| 157/157 [00:01<00:00, 80.05it/s]\n"
          ]
        },
        {
          "output_type": "stream",
          "name": "stdout",
          "text": [
            "Epoch 1/5 loss 0.78370 val_loss 0.55085 acc 0.72350 val_acc 0.79270\n"
          ]
        },
        {
          "output_type": "stream",
          "name": "stderr",
          "text": [
            "loss 0.48995 acc 0.81728: 100%|██████████| 938/938 [00:15<00:00, 58.90it/s]\n",
            "val_loss 0.48382 val_acc 0.81698: 100%|██████████| 157/157 [00:02<00:00, 67.92it/s]\n"
          ]
        },
        {
          "output_type": "stream",
          "name": "stdout",
          "text": [
            "Epoch 2/5 loss 0.48995 val_loss 0.48382 acc 0.81728 val_acc 0.81698\n"
          ]
        },
        {
          "output_type": "stream",
          "name": "stderr",
          "text": [
            "loss 0.41817 acc 0.84517: 100%|██████████| 938/938 [00:15<00:00, 59.43it/s]\n",
            "val_loss 0.41501 val_acc 0.84494: 100%|██████████| 157/157 [00:01<00:00, 80.95it/s]\n"
          ]
        },
        {
          "output_type": "stream",
          "name": "stdout",
          "text": [
            "Epoch 3/5 loss 0.41817 val_loss 0.41501 acc 0.84517 val_acc 0.84494\n"
          ]
        },
        {
          "output_type": "stream",
          "name": "stderr",
          "text": [
            "loss 0.37291 acc 0.86197: 100%|██████████| 938/938 [00:15<00:00, 59.49it/s]\n",
            "val_loss 0.38329 val_acc 0.85470: 100%|██████████| 157/157 [00:02<00:00, 71.46it/s]\n"
          ]
        },
        {
          "output_type": "stream",
          "name": "stdout",
          "text": [
            "Epoch 4/5 loss 0.37291 val_loss 0.38329 acc 0.86197 val_acc 0.85470\n"
          ]
        },
        {
          "output_type": "stream",
          "name": "stderr",
          "text": [
            "loss 0.34231 acc 0.87315: 100%|██████████| 938/938 [00:16<00:00, 58.29it/s]\n",
            "val_loss 0.37813 val_acc 0.85719: 100%|██████████| 157/157 [00:01<00:00, 81.42it/s]\n"
          ]
        },
        {
          "output_type": "stream",
          "name": "stdout",
          "text": [
            "Epoch 5/5 loss 0.34231 val_loss 0.37813 acc 0.87315 val_acc 0.85719\n"
          ]
        },
        {
          "output_type": "display_data",
          "data": {
            "text/plain": [
              "<Figure size 640x480 with 1 Axes>"
            ],
            "image/png": "[encoded data removed]"
          },
          "metadata": {}
        },
        {
          "output_type": "display_data",
          "data": {
            "text/plain": [
              "<Figure size 640x480 with 1 Axes>"
            ],
            "image/png": "[encoded data removed]"
          },
          "metadata": {}
        },
        {
          "output_type": "stream",
          "name": "stdout",
          "text": [
            "train loss:  0.3423133377454428\n",
            "val loss:  0.37813390288383336\n",
            "train acc:  0.873150986140725\n",
            "val acc:  0.8571855095541401\n"
          ]
        }
      ]
    },
    {
      "cell_type": "markdown",
      "source": [
        "#### Modelo 5"
      ],
      "metadata": {
        "id": "pCA3Y01NBSE2"
      }
    },
    {
      "cell_type": "markdown",
      "source": [
        "##### Bloque de convolución"
      ],
      "metadata": {
        "id": "U_G9DkAuBSE_"
      }
    },
    {
      "cell_type": "code",
      "source": [
        "# Bloque de convolución para emplear en la red\n",
        "def conv_block_5(c_in, c_out, k=3, p='same', s=1, pk=3, ps=1, pp=1):\n",
        "    return torch.nn.Sequential(\n",
        "        torch.nn.Conv2d(c_in, c_out, k, padding=p, stride=s), # conv\n",
        "        torch.nn.Tanh(),                                      # activation\n",
        "        torch.nn.MaxPool2d(pk, stride=ps, padding=pp)         # pooling\n",
        "    )"
      ],
      "metadata": {
        "id": "BDe7bNm7BSE_"
      },
      "execution_count": 173,
      "outputs": []
    },
    {
      "cell_type": "markdown",
      "source": [
        "##### CNN"
      ],
      "metadata": {
        "id": "bYnkjYNbBSE_"
      }
    },
    {
      "cell_type": "code",
      "source": [
        "class CNN_5(torch.nn.Module):\n",
        "  def __init__(self, n_channels=1, n_outputs=10):\n",
        "    super().__init__()\n",
        "    self.conv1 = conv_block_5(n_channels, 8)\n",
        "    self.conv1_out = None\n",
        "    self.conv2 = conv_block_5(8,16)\n",
        "    self.conv2_out = None\n",
        "    self.conv3 = conv_block_5(16, 32)\n",
        "    self.conv3_out = None\n",
        "    self.conv4 = conv_block_5(32, 64)\n",
        "    self.conv4_out = None\n",
        "    self.conv5 = conv_block_5(64, 128)\n",
        "    self.conv5_out = None\n",
        "    self.fc = torch.nn.Linear(100352, n_outputs) # verificar la dim de la salida para calcular el tamaño de la fully conected!!\n",
        "    #self.sm = torch.nn.Softmax(dim=1)\n",
        "\n",
        "    print('Red creada')\n",
        "    print('arquitectura:')\n",
        "    print(self)\n",
        "\n",
        "    # Se imprime el número de capas\n",
        "    i=0\n",
        "    for layer in self.children():\n",
        "        i=i+1\n",
        "    print('Número total de capas de CNN (conv+act+polling) + finales : ', i)\n",
        "\n",
        "    # Se imprime el número de parámetros entrenables\n",
        "    pytorch_total_params = sum(p.numel() for p in self.parameters() if p.requires_grad)\n",
        "    print('Número total de parámetros a entrenar: ', pytorch_total_params)\n",
        "\n",
        "  def validar_dim(self):\n",
        "    # es una funcion \"forward\" que imprime la dimension de cada paso\n",
        "    # la defino distinto de la forward standard para que cuando entrenemos\n",
        "    # no nos llene la pantalla de información inecesaria.\n",
        "\n",
        "    print(\"Validacion de dimensiones\")\n",
        "    tam = input(\"Ingrese tamaño de entrada: \")\n",
        "    x = torch.randn(1, 1, int(tam), int(tam))\n",
        "    print(\"Tamaño entrada: \", x.shape)\n",
        "\n",
        "    x = self.conv1(x)\n",
        "    print(\"Tamaño salida conv1: \", x.shape)\n",
        "    x = self.conv2(x)\n",
        "    print(\"Tamaño salida conv2: \", x.shape)\n",
        "    x = self.conv3(x)\n",
        "    print(\"Tamaño salida conv3: \", x.shape)\n",
        "    x = self.conv4(x)\n",
        "    print(\"Tamaño salida conv4: \", x.shape)\n",
        "    x = self.conv5(x)\n",
        "    print(\"Tamaño salida conv5: \", x.shape)\n",
        "\n",
        "    x = x.view(x.shape[0], -1)\n",
        "    print(\"Tamaño imagen vectorizada: \", x.shape)\n",
        "    x = self.fc(x)\n",
        "    print(\"Tamaño salida fc (nro clases): \", x.shape)\n",
        "\n",
        "  def forward(self, x):\n",
        "    self.conv1_out = self.conv1(x)\n",
        "    self.conv2_out = self.conv2(self.conv1_out)\n",
        "    self.conv3_out = self.conv3(self.conv2_out)\n",
        "    self.conv4_out = self.conv4(self.conv3_out)\n",
        "    self.conv5_out= self.conv5(self.conv4_out)\n",
        "    y = self.conv5_out.view(self.conv5_out.shape[0], -1)\n",
        "    y = self.fc(y)\n",
        "    # x = self.sm(x)\n",
        "    return y"
      ],
      "metadata": {
        "id": "0_tF7mhdBSE_"
      },
      "execution_count": 178,
      "outputs": []
    },
    {
      "cell_type": "code",
      "source": [
        "model5 = CNN_5()"
      ],
      "metadata": {
        "colab": {
          "base_uri": "https://localhost:8080/"
        },
        "outputId": "e5307e75-1ce1-42a6-de19-2ea164abe793",
        "id": "_4lnVbsYBSE_"
      },
      "execution_count": 179,
      "outputs": [
        {
          "output_type": "stream",
          "name": "stdout",
          "text": [
            "Red creada\n",
            "arquitectura:\n",
            "CNN_5(\n",
            "  (conv1): Sequential(\n",
            "    (0): Conv2d(1, 8, kernel_size=(3, 3), stride=(1, 1), padding=same)\n",
            "    (1): Tanh()\n",
            "    (2): MaxPool2d(kernel_size=3, stride=1, padding=1, dilation=1, ceil_mode=False)\n",
            "  )\n",
            "  (conv2): Sequential(\n",
            "    (0): Conv2d(8, 16, kernel_size=(3, 3), stride=(1, 1), padding=same)\n",
            "    (1): Tanh()\n",
            "    (2): MaxPool2d(kernel_size=3, stride=1, padding=1, dilation=1, ceil_mode=False)\n",
            "  )\n",
            "  (conv3): Sequential(\n",
            "    (0): Conv2d(16, 32, kernel_size=(3, 3), stride=(1, 1), padding=same)\n",
            "    (1): Tanh()\n",
            "    (2): MaxPool2d(kernel_size=3, stride=1, padding=1, dilation=1, ceil_mode=False)\n",
            "  )\n",
            "  (conv4): Sequential(\n",
            "    (0): Conv2d(32, 64, kernel_size=(3, 3), stride=(1, 1), padding=same)\n",
            "    (1): Tanh()\n",
            "    (2): MaxPool2d(kernel_size=3, stride=1, padding=1, dilation=1, ceil_mode=False)\n",
            "  )\n",
            "  (conv5): Sequential(\n",
            "    (0): Conv2d(64, 128, kernel_size=(3, 3), stride=(1, 1), padding=same)\n",
            "    (1): Tanh()\n",
            "    (2): MaxPool2d(kernel_size=3, stride=1, padding=1, dilation=1, ceil_mode=False)\n",
            "  )\n",
            "  (fc): Linear(in_features=100352, out_features=10, bias=True)\n",
            ")\n",
            "Número total de capas de CNN (conv+act+polling) + finales :  6\n",
            "Número total de parámetros a entrenar:  1101770\n"
          ]
        }
      ]
    },
    {
      "cell_type": "code",
      "source": [
        "summary(model5.cuda(),(1, 28, 28))"
      ],
      "metadata": {
        "colab": {
          "base_uri": "https://localhost:8080/"
        },
        "outputId": "27a174a7-671a-4772-b652-89901ef0d10b",
        "id": "QtPE8wXABSE_"
      },
      "execution_count": 180,
      "outputs": [
        {
          "output_type": "stream",
          "name": "stdout",
          "text": [
            "----------------------------------------------------------------\n",
            "        Layer (type)               Output Shape         Param #\n",
            "================================================================\n",
            "            Conv2d-1            [-1, 8, 28, 28]              80\n",
            "              Tanh-2            [-1, 8, 28, 28]               0\n",
            "         MaxPool2d-3            [-1, 8, 28, 28]               0\n",
            "            Conv2d-4           [-1, 16, 28, 28]           1,168\n",
            "              Tanh-5           [-1, 16, 28, 28]               0\n",
            "         MaxPool2d-6           [-1, 16, 28, 28]               0\n",
            "            Conv2d-7           [-1, 32, 28, 28]           4,640\n",
            "              Tanh-8           [-1, 32, 28, 28]               0\n",
            "         MaxPool2d-9           [-1, 32, 28, 28]               0\n",
            "           Conv2d-10           [-1, 64, 28, 28]          18,496\n",
            "             Tanh-11           [-1, 64, 28, 28]               0\n",
            "        MaxPool2d-12           [-1, 64, 28, 28]               0\n",
            "           Conv2d-13          [-1, 128, 28, 28]          73,856\n",
            "             Tanh-14          [-1, 128, 28, 28]               0\n",
            "        MaxPool2d-15          [-1, 128, 28, 28]               0\n",
            "           Linear-16                   [-1, 10]       1,003,530\n",
            "================================================================\n",
            "Total params: 1,101,770\n",
            "Trainable params: 1,101,770\n",
            "Non-trainable params: 0\n",
            "----------------------------------------------------------------\n",
            "Input size (MB): 0.00\n",
            "Forward/backward pass size (MB): 4.45\n",
            "Params size (MB): 4.20\n",
            "Estimated Total Size (MB): 8.66\n",
            "----------------------------------------------------------------\n"
          ]
        }
      ]
    },
    {
      "cell_type": "code",
      "source": [
        "# Verificamos la consistencia de las dimensiones\n",
        "model5.cpu()\n",
        "model5.validar_dim()"
      ],
      "metadata": {
        "colab": {
          "base_uri": "https://localhost:8080/"
        },
        "outputId": "3c248ae4-8559-4fd9-cd53-0273b139413e",
        "id": "X7BjFk7fBSFA"
      },
      "execution_count": 181,
      "outputs": [
        {
          "output_type": "stream",
          "name": "stdout",
          "text": [
            "Validacion de dimensiones\n",
            "Ingrese tamaño de entrada: 28\n",
            "Tamaño entrada:  torch.Size([1, 1, 28, 28])\n",
            "Tamaño salida conv1:  torch.Size([1, 8, 28, 28])\n",
            "Tamaño salida conv2:  torch.Size([1, 16, 28, 28])\n",
            "Tamaño salida conv3:  torch.Size([1, 32, 28, 28])\n",
            "Tamaño salida conv4:  torch.Size([1, 64, 28, 28])\n",
            "Tamaño salida conv5:  torch.Size([1, 128, 28, 28])\n",
            "Tamaño imagen vectorizada:  torch.Size([1, 100352])\n",
            "Tamaño salida fc (nro clases):  torch.Size([1, 10])\n"
          ]
        }
      ]
    },
    {
      "cell_type": "markdown",
      "source": [
        "##### Se entrena el modelo 4"
      ],
      "metadata": {
        "id": "39D8IxGxBSFA"
      }
    },
    {
      "cell_type": "code",
      "source": [
        "train_loss_5, val_loss_5, train_acc_5, val_acc_5 = fit(model5, dataloader, epochs=5)"
      ],
      "metadata": {
        "colab": {
          "base_uri": "https://localhost:8080/",
          "height": 1000
        },
        "outputId": "aa9204c1-8502-4f7c-e27c-644e5d296a5c",
        "id": "rl90A7frBSFA"
      },
      "execution_count": 182,
      "outputs": [
        {
          "output_type": "stream",
          "name": "stderr",
          "text": [
            "loss 0.52214 acc 0.81168: 100%|██████████| 938/938 [00:22<00:00, 42.50it/s]\n",
            "val_loss 0.40688 val_acc 0.85878: 100%|██████████| 157/157 [00:02<00:00, 68.20it/s]\n"
          ]
        },
        {
          "output_type": "stream",
          "name": "stdout",
          "text": [
            "Epoch 1/5 loss 0.52214 val_loss 0.40688 acc 0.81168 val_acc 0.85878\n"
          ]
        },
        {
          "output_type": "stream",
          "name": "stderr",
          "text": [
            "loss 0.36306 acc 0.87107: 100%|██████████| 938/938 [00:21<00:00, 42.67it/s]\n",
            "val_loss 0.35081 val_acc 0.87590: 100%|██████████| 157/157 [00:02<00:00, 65.98it/s]\n"
          ]
        },
        {
          "output_type": "stream",
          "name": "stdout",
          "text": [
            "Epoch 2/5 loss 0.36306 val_loss 0.35081 acc 0.87107 val_acc 0.87590\n"
          ]
        },
        {
          "output_type": "stream",
          "name": "stderr",
          "text": [
            "loss 0.32293 acc 0.88468: 100%|██████████| 938/938 [00:22<00:00, 42.56it/s]\n",
            "val_loss 0.32569 val_acc 0.88555: 100%|██████████| 157/157 [00:02<00:00, 68.05it/s]\n"
          ]
        },
        {
          "output_type": "stream",
          "name": "stdout",
          "text": [
            "Epoch 3/5 loss 0.32293 val_loss 0.32569 acc 0.88468 val_acc 0.88555\n"
          ]
        },
        {
          "output_type": "stream",
          "name": "stderr",
          "text": [
            "loss 0.29800 acc 0.89436: 100%|██████████| 938/938 [00:22<00:00, 42.52it/s]\n",
            "val_loss 0.32851 val_acc 0.88426: 100%|██████████| 157/157 [00:02<00:00, 67.47it/s]\n"
          ]
        },
        {
          "output_type": "stream",
          "name": "stdout",
          "text": [
            "Epoch 4/5 loss 0.29800 val_loss 0.32851 acc 0.89436 val_acc 0.88426\n"
          ]
        },
        {
          "output_type": "stream",
          "name": "stderr",
          "text": [
            "loss 0.28485 acc 0.89894: 100%|██████████| 938/938 [00:22<00:00, 42.57it/s]\n",
            "val_loss 0.30916 val_acc 0.89013: 100%|██████████| 157/157 [00:02<00:00, 68.19it/s]\n"
          ]
        },
        {
          "output_type": "stream",
          "name": "stdout",
          "text": [
            "Epoch 5/5 loss 0.28485 val_loss 0.30916 acc 0.89894 val_acc 0.89013\n"
          ]
        },
        {
          "output_type": "display_data",
          "data": {
            "text/plain": [
              "<Figure size 640x480 with 1 Axes>"
            ],
            "image/png": "[encoded data removed]"
          },
          "metadata": {}
        },
        {
          "output_type": "display_data",
          "data": {
            "text/plain": [
              "<Figure size 640x480 with 1 Axes>"
            ],
            "image/png": "[encoded data removed]"
          },
          "metadata": {}
        },
        {
          "output_type": "stream",
          "name": "stdout",
          "text": [
            "train loss:  0.28485459364903\n",
            "val loss:  0.3091588533323282\n",
            "train acc:  0.8989372334754797\n",
            "val acc:  0.8901273885350318\n"
          ]
        }
      ]
    },
    {
      "cell_type": "markdown",
      "source": [
        "### Se realiza una comparación de desempeño entre los modelos"
      ],
      "metadata": {
        "id": "ESg4fgZX4iHb"
      }
    },
    {
      "cell_type": "code",
      "source": [
        "from tabulate import tabulate\n",
        "resultados = {\n",
        "    \"Algorithm\": [\"Modelo 1\", \"Modelo 2\", \"Modelo 3\", \"Modelo 4\", \"Modelo 5\"],\n",
        "    \"Train loss\": [train_loss_1, train_loss_2, train_loss_3, train_loss_4, train_loss_5],\n",
        "    \"Valid loss\": [val_loss_1, val_loss_2, val_loss_3, val_loss_4, val_loss_5],\n",
        "    \"Train accuracy\": [train_acc_1, train_acc_2, train_acc_3, train_acc_4, train_acc_5],\n",
        "    \"Valid accuracy\": [val_acc_1, val_acc_2, val_acc_3, val_acc_4, val_acc_5],\n",
        "}\n",
        "encabezados = [\"Train loss\", \"Valid loss\", \"Train accuracy\", \"Valid accuracy\"]\n",
        "print(tabulate(resultados, headers=encabezados, floatfmt=\".5f\"))"
      ],
      "metadata": {
        "colab": {
          "base_uri": "https://localhost:8080/"
        },
        "id": "QBRMY82s4hKy",
        "outputId": "610dc846-c48f-449c-e51d-7daf1713f29c"
      },
      "execution_count": 185,
      "outputs": [
        {
          "output_type": "stream",
          "name": "stdout",
          "text": [
            "            Train loss    Valid loss    Train accuracy    Valid accuracy\n",
            "--------  ------------  ------------  ----------------  ----------------\n",
            "Modelo 1       0.45998       0.46913           0.83287           0.82763\n",
            "Modelo 2       0.46325       0.46932           0.82741           0.82613\n",
            "Modelo 3       0.45949       0.46550           0.83086           0.82842\n",
            "Modelo 4       0.34231       0.37813           0.87315           0.85719\n",
            "Modelo 5       0.28485       0.30916           0.89894           0.89013\n"
          ]
        }
      ]
    },
    {
      "cell_type": "markdown",
      "source": [
        "Se observa en la tabla comparativa que el modelo con mejor desempeño tanto en loss como en accuracy fue el modelo 5, lo cual era de esperarse al tener mayor cantidad de capas que los otros modelos."
      ],
      "metadata": {
        "id": "M-ny1ki_MSCt"
      }
    },
    {
      "cell_type": "markdown",
      "source": [
        "A continuación se le agregarán capas de dropout al modelo 5 para mejorar su desempeño."
      ],
      "metadata": {
        "id": "u0h6EJQ9MfdU"
      }
    },
    {
      "cell_type": "code",
      "source": [
        "# Bloque de convolución para emplear en la red\n",
        "def conv_block_5(c_in, c_out, k=3, p='same', s=1, pk=3, ps=1, pp=1):\n",
        "    return torch.nn.Sequential(\n",
        "        torch.nn.Conv2d(c_in, c_out, k, padding=p, stride=s), # conv\n",
        "        torch.nn.Tanh(),                                      # activation\n",
        "        torch.nn.MaxPool2d(pk, stride=ps, padding=pp)         # pooling\n",
        "    )"
      ],
      "metadata": {
        "id": "GhCelSCdPdzA"
      },
      "execution_count": 11,
      "outputs": []
    },
    {
      "cell_type": "code",
      "source": [
        "class CNN_5_DO(torch.nn.Module):\n",
        "  def __init__(self, n_channels=1, n_outputs=10):\n",
        "    super().__init__()\n",
        "    self.conv1 = conv_block_5(n_channels, 8)\n",
        "    self.conv1_out = None\n",
        "    self.drop = torch.nn.Dropout(p=0.7, inplace = False)\n",
        "    self.conv2 = conv_block_5(8,16)\n",
        "    self.conv2_out = None\n",
        "    self.drop = torch.nn.Dropout(p=0.7, inplace = False)\n",
        "    self.conv3 = conv_block_5(16, 32)\n",
        "    self.conv3_out = None\n",
        "    self.drop = torch.nn.Dropout(p=0.7, inplace = False)\n",
        "    self.conv4 = conv_block_5(32, 64)\n",
        "    self.conv4_out = None\n",
        "    self.drop = torch.nn.Dropout(p=0.7, inplace = False)\n",
        "    self.conv5 = conv_block_5(64, 128)\n",
        "    self.conv5_out = None\n",
        "    self.fc = torch.nn.Linear(100352, n_outputs) # verificar la dim de la salida para calcular el tamaño de la fully conected!!\n",
        "    #self.sm = torch.nn.Softmax(dim=1)\n",
        "\n",
        "    print('Red creada')\n",
        "    print('arquitectura:')\n",
        "    print(self)\n",
        "\n",
        "    # Se imprime el número de capas\n",
        "    i=0\n",
        "    for layer in self.children():\n",
        "        i=i+1\n",
        "    print('Número total de capas de CNN (conv+act+polling) + finales : ', i)\n",
        "\n",
        "    # Se imprime el número de parámetros entrenables\n",
        "    pytorch_total_params = sum(p.numel() for p in self.parameters() if p.requires_grad)\n",
        "    print('Número total de parámetros a entrenar: ', pytorch_total_params)\n",
        "\n",
        "  def validar_dim(self):\n",
        "    # es una funcion \"forward\" que imprime la dimension de cada paso\n",
        "    # la defino distinto de la forward standard para que cuando entrenemos\n",
        "    # no nos llene la pantalla de información inecesaria.\n",
        "\n",
        "    print(\"Validacion de dimensiones\")\n",
        "    tam = input(\"Ingrese tamaño de entrada: \")\n",
        "    x = torch.randn(1, 1, int(tam), int(tam))\n",
        "    print(\"Tamaño entrada: \", x.shape)\n",
        "\n",
        "    x = self.conv1(x)\n",
        "    print(\"Tamaño salida conv1: \", x.shape)\n",
        "    x = self.conv2(x)\n",
        "    print(\"Tamaño salida conv2: \", x.shape)\n",
        "    x = self.conv3(x)\n",
        "    print(\"Tamaño salida conv3: \", x.shape)\n",
        "    x = self.conv4(x)\n",
        "    print(\"Tamaño salida conv4: \", x.shape)\n",
        "    x = self.conv5(x)\n",
        "    print(\"Tamaño salida conv5: \", x.shape)\n",
        "\n",
        "    x = x.view(x.shape[0], -1)\n",
        "    print(\"Tamaño imagen vectorizada: \", x.shape)\n",
        "    x = self.fc(x)\n",
        "    print(\"Tamaño salida fc (nro clases): \", x.shape)\n",
        "\n",
        "  def forward(self, x):\n",
        "    self.conv1_out = self.drop(self.conv1(x))\n",
        "    self.conv2_out = self.drop(self.conv2(self.conv1_out))\n",
        "    self.conv3_out = self.drop(self.conv3(self.conv2_out))\n",
        "    self.conv4_out = self.drop(self.conv4(self.conv3_out))\n",
        "    self.conv5_out= self.conv5(self.conv4_out)\n",
        "    y = self.conv5_out.view(self.conv5_out.shape[0], -1)\n",
        "    y = self.fc(y)\n",
        "    # x = self.sm(x)\n",
        "    return y"
      ],
      "metadata": {
        "id": "fcmc6o2jMp8r"
      },
      "execution_count": 12,
      "outputs": []
    },
    {
      "cell_type": "code",
      "source": [
        "model5_do = CNN_5_DO()"
      ],
      "metadata": {
        "colab": {
          "base_uri": "https://localhost:8080/"
        },
        "id": "t7jKs1A8NqvA",
        "outputId": "041b62ff-6404-4816-a535-4aeac1139b12"
      },
      "execution_count": 13,
      "outputs": [
        {
          "output_type": "stream",
          "name": "stdout",
          "text": [
            "Red creada\n",
            "arquitectura:\n",
            "CNN_5_DO(\n",
            "  (conv1): Sequential(\n",
            "    (0): Conv2d(1, 8, kernel_size=(3, 3), stride=(1, 1), padding=same)\n",
            "    (1): Tanh()\n",
            "    (2): MaxPool2d(kernel_size=3, stride=1, padding=1, dilation=1, ceil_mode=False)\n",
            "  )\n",
            "  (drop): Dropout(p=0.7, inplace=False)\n",
            "  (conv2): Sequential(\n",
            "    (0): Conv2d(8, 16, kernel_size=(3, 3), stride=(1, 1), padding=same)\n",
            "    (1): Tanh()\n",
            "    (2): MaxPool2d(kernel_size=3, stride=1, padding=1, dilation=1, ceil_mode=False)\n",
            "  )\n",
            "  (conv3): Sequential(\n",
            "    (0): Conv2d(16, 32, kernel_size=(3, 3), stride=(1, 1), padding=same)\n",
            "    (1): Tanh()\n",
            "    (2): MaxPool2d(kernel_size=3, stride=1, padding=1, dilation=1, ceil_mode=False)\n",
            "  )\n",
            "  (conv4): Sequential(\n",
            "    (0): Conv2d(32, 64, kernel_size=(3, 3), stride=(1, 1), padding=same)\n",
            "    (1): Tanh()\n",
            "    (2): MaxPool2d(kernel_size=3, stride=1, padding=1, dilation=1, ceil_mode=False)\n",
            "  )\n",
            "  (conv5): Sequential(\n",
            "    (0): Conv2d(64, 128, kernel_size=(3, 3), stride=(1, 1), padding=same)\n",
            "    (1): Tanh()\n",
            "    (2): MaxPool2d(kernel_size=3, stride=1, padding=1, dilation=1, ceil_mode=False)\n",
            "  )\n",
            "  (fc): Linear(in_features=100352, out_features=10, bias=True)\n",
            ")\n",
            "Número total de capas de CNN (conv+act+polling) + finales :  7\n",
            "Número total de parámetros a entrenar:  1101770\n"
          ]
        }
      ]
    },
    {
      "cell_type": "code",
      "source": [
        "device = \"cpu\"\n",
        "model5_do.to(device)\n",
        "summary(model5_do,(1, 28, 28))"
      ],
      "metadata": {
        "colab": {
          "base_uri": "https://localhost:8080/"
        },
        "id": "4qs8FXZPNrDl",
        "outputId": "587ddc9e-1f87-4eac-dc3b-15144629966d"
      },
      "execution_count": 16,
      "outputs": [
        {
          "output_type": "stream",
          "name": "stdout",
          "text": [
            "----------------------------------------------------------------\n",
            "        Layer (type)               Output Shape         Param #\n",
            "================================================================\n",
            "            Conv2d-1            [-1, 8, 28, 28]              80\n",
            "              Tanh-2            [-1, 8, 28, 28]               0\n",
            "         MaxPool2d-3            [-1, 8, 28, 28]               0\n",
            "           Dropout-4            [-1, 8, 28, 28]               0\n",
            "            Conv2d-5           [-1, 16, 28, 28]           1,168\n",
            "              Tanh-6           [-1, 16, 28, 28]               0\n",
            "         MaxPool2d-7           [-1, 16, 28, 28]               0\n",
            "           Dropout-8           [-1, 16, 28, 28]               0\n",
            "            Conv2d-9           [-1, 32, 28, 28]           4,640\n",
            "             Tanh-10           [-1, 32, 28, 28]               0\n",
            "        MaxPool2d-11           [-1, 32, 28, 28]               0\n",
            "          Dropout-12           [-1, 32, 28, 28]               0\n",
            "           Conv2d-13           [-1, 64, 28, 28]          18,496\n",
            "             Tanh-14           [-1, 64, 28, 28]               0\n",
            "        MaxPool2d-15           [-1, 64, 28, 28]               0\n",
            "          Dropout-16           [-1, 64, 28, 28]               0\n",
            "           Conv2d-17          [-1, 128, 28, 28]          73,856\n",
            "             Tanh-18          [-1, 128, 28, 28]               0\n",
            "        MaxPool2d-19          [-1, 128, 28, 28]               0\n",
            "           Linear-20                   [-1, 10]       1,003,530\n",
            "================================================================\n",
            "Total params: 1,101,770\n",
            "Trainable params: 1,101,770\n",
            "Non-trainable params: 0\n",
            "----------------------------------------------------------------\n",
            "Input size (MB): 0.00\n",
            "Forward/backward pass size (MB): 5.17\n",
            "Params size (MB): 4.20\n",
            "Estimated Total Size (MB): 9.37\n",
            "----------------------------------------------------------------\n"
          ]
        }
      ]
    },
    {
      "cell_type": "code",
      "source": [
        "# Verificamos la consistencia de las dimensiones\n",
        "model5_do.cpu()\n",
        "model5_do.validar_dim()"
      ],
      "metadata": {
        "colab": {
          "base_uri": "https://localhost:8080/"
        },
        "id": "EFAZPWfTNrL6",
        "outputId": "c6484469-3ab8-475f-d3fa-70745c24ff13"
      },
      "execution_count": 17,
      "outputs": [
        {
          "output_type": "stream",
          "name": "stdout",
          "text": [
            "Validacion de dimensiones\n",
            "Ingrese tamaño de entrada: 28\n",
            "Tamaño entrada:  torch.Size([1, 1, 28, 28])\n",
            "Tamaño salida conv1:  torch.Size([1, 8, 28, 28])\n",
            "Tamaño salida conv2:  torch.Size([1, 16, 28, 28])\n",
            "Tamaño salida conv3:  torch.Size([1, 32, 28, 28])\n",
            "Tamaño salida conv4:  torch.Size([1, 64, 28, 28])\n",
            "Tamaño salida conv5:  torch.Size([1, 128, 28, 28])\n",
            "Tamaño imagen vectorizada:  torch.Size([1, 100352])\n",
            "Tamaño salida fc (nro clases):  torch.Size([1, 10])\n"
          ]
        }
      ]
    },
    {
      "cell_type": "code",
      "source": [
        "train_loss_5_do, val_loss_5_do, train_acc_5_do, val_acc_5_do = fit(model5_do, dataloader, epochs=5)"
      ],
      "metadata": {
        "colab": {
          "base_uri": "https://localhost:8080/"
        },
        "id": "fShkZYtlNrQm",
        "outputId": "7475cad3-4f45-4149-d9c6-9f9f566151b3"
      },
      "execution_count": null,
      "outputs": [
        {
          "output_type": "stream",
          "name": "stderr",
          "text": [
            "loss 1.00982 acc 0.62538:  74%|███████▍  | 695/938 [16:11<05:23,  1.33s/it]"
          ]
        }
      ]
    },
    {
      "cell_type": "markdown",
      "source": [
        "### Verifica del funcionamiento del modelo"
      ],
      "metadata": {
        "id": "NIl8m4_SgOG5"
      }
    },
    {
      "cell_type": "code",
      "source": [
        "# corremos 1 dato, a ver como lo clasifica...\n",
        "# generamos un batch del dataloader\n",
        "test_features, test_labels = next(iter(dataloader['test']))\n",
        "\n",
        "# item a usar k\n",
        "k = 24\n",
        "\n",
        "# verifico las dimensiones y los valores que toma algun pixel.\n",
        "samp_img = test_features[k]\n",
        "print(samp_img.shape)\n",
        "print(samp_img[0][0][0])\n",
        "print(torch.max(samp_img))\n",
        "print(torch.min(samp_img))\n",
        "\n",
        "# ploteo la imagen\n",
        "plt.imshow(samp_img.squeeze(), cmap='gray')\n",
        "plt.show()\n",
        "\n",
        "# preparo para pasarla a la red (model) asi predice.\n",
        "samp_imp = samp_img.unsqueeze(0) # agrego la batch dim\n",
        "samp_img = samp_img.unsqueeze(0).to(device)\n",
        "print('Tamaño imagen de entrada a red: ', samp_img.shape)\n",
        "\n",
        "# la paso al modelo\n",
        "model.eval()\n",
        "y_hat = model(samp_img)\n",
        "print('Predición del modelo:')\n",
        "print(y_hat.detach())\n",
        "print()\n",
        "print('softmax de predicción:')\n",
        "print(torch.nn.functional.softmax(y_hat, dim=1).detach())\n",
        "print()\n",
        "print(f'La indumentaria es un: ', labels_map[torch.argmax(y_hat, axis=1).item()])\n"
      ],
      "metadata": {
        "colab": {
          "base_uri": "https://localhost:8080/",
          "height": 673
        },
        "id": "xItrtSrXgRG1",
        "outputId": "0d241ff3-e1cb-4c1f-ea5c-177bb19909a3"
      },
      "execution_count": 21,
      "outputs": [
        {
          "output_type": "stream",
          "name": "stdout",
          "text": [
            "torch.Size([1, 28, 28])\n",
            "tensor(0.)\n",
            "tensor(1.)\n",
            "tensor(0.)\n"
          ]
        },
        {
          "output_type": "display_data",
          "data": {
            "text/plain": [
              "<Figure size 640x480 with 1 Axes>"
            ],
            "image/png": "[encoded data removed]"
          },
          "metadata": {}
        },
        {
          "output_type": "stream",
          "name": "stdout",
          "text": [
            "Tamaño imagen de entrada a red:  torch.Size([1, 1, 28, 28])\n",
            "Predición del modelo:\n",
            "tensor([[-0.0897,  9.4886, -0.4353,  2.0062,  1.4065, -1.7110, -1.1367, -4.8422,\n",
            "         -2.0716, -3.7318]], device='cuda:0')\n",
            "\n",
            "softmax de predicción:\n",
            "tensor([[6.9138e-05, 9.9896e-01, 4.8936e-05, 5.6231e-04, 3.0869e-04, 1.3665e-05,\n",
            "         2.4267e-05, 5.9668e-07, 9.5277e-06, 1.8112e-06]], device='cuda:0')\n",
            "\n",
            "La indumentaria es un:  Trouser\n"
          ]
        }
      ]
    },
    {
      "cell_type": "markdown",
      "source": [
        "## Parte 2.b\n",
        "\n",
        "Empleando el modelo entrenado y elegido por Ud. en el punto anterior, realice transfer learning para procesar las imágenes del dataset MNIST (los números) e identificar los números mayores o menores a 4,5.\n",
        "Para el entrenamiento emplee solamente 20.000 muestras del set de entrenamiento y valide con el set de testeo. (al reducir el train set, mantenga equilibrada la distribución de las clases!!)\n",
        "\n",
        "Pruebe 2 estrategias de transfer learning distintas (acorde a los visto en la teoría) y comente para cada una, cual debería funcionar mejor justificando su respuesta.\n",
        "\n",
        "\n",
        "Compare los resultados finales y comente."
      ],
      "metadata": {
        "id": "jLIuwzpm0Rz0"
      }
    },
    {
      "cell_type": "markdown",
      "source": [],
      "metadata": {
        "id": "pp7aUQr7aaAy"
      }
    }
  ]
}